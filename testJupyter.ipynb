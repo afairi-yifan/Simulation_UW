{
 "cells": [
  {
   "cell_type": "code",
   "execution_count": 14,
   "metadata": {},
   "outputs": [],
   "source": [
    "import warnings\n",
    "import os\n",
    "import warnings\n",
    "import pandas as pd\n",
    "from pandas import ExcelWriter\n",
    "\n",
    "import config\n",
    "import config as cf\n",
    "import numpy as np\n",
    "from Function import *\n",
    "warnings.simplefilter(action='ignore', category=FutureWarning)\n",
    "# warnings.simplefilter(action='ignore', category=pd.core.common.SettingWithCopyWarning)\n",
    "## autoreload reloads modules automatically before entering the execution of code\n",
    "%load_ext autoreload\n",
    "%autoreload 2"
   ]
  },
  {
   "cell_type": "code",
   "execution_count": 75,
   "metadata": {},
   "outputs": [
    {
     "name": "stdout",
     "output_type": "stream",
     "text": [
      "   Mike  beach\n",
      "0     1      1\n",
      "1     1      1\n",
      "   Mike  beach\n",
      "0     2      2\n",
      "1     2      2\n",
      "   Mike  beach\n",
      "0     3      3\n",
      "1     3      3\n"
     ]
    },
    {
     "data": {
      "text/plain": "   Mike  beach\n0     3      3\n1     3      3",
      "text/html": "<div>\n<style scoped>\n    .dataframe tbody tr th:only-of-type {\n        vertical-align: middle;\n    }\n\n    .dataframe tbody tr th {\n        vertical-align: top;\n    }\n\n    .dataframe thead th {\n        text-align: right;\n    }\n</style>\n<table border=\"1\" class=\"dataframe\">\n  <thead>\n    <tr style=\"text-align: right;\">\n      <th></th>\n      <th>Mike</th>\n      <th>beach</th>\n    </tr>\n  </thead>\n  <tbody>\n    <tr>\n      <th>0</th>\n      <td>3</td>\n      <td>3</td>\n    </tr>\n    <tr>\n      <th>1</th>\n      <td>3</td>\n      <td>3</td>\n    </tr>\n  </tbody>\n</table>\n</div>"
     },
     "execution_count": 75,
     "metadata": {},
     "output_type": "execute_result"
    }
   ],
   "source": [
    "df_1 = pd.DataFrame(1, index=[0,1], columns=['Mike', 'beach'])\n",
    "df_2 = pd.DataFrame(2, index=[0,1], columns=['Mike', 'beach'])\n",
    "print(df_1)\n",
    "print(df_2)\n",
    "print(df_1 + df_2)\n",
    "df_emp = pd.DataFrame()\n",
    "df_2 = df_2.add(df_1)\n",
    "cat = pd.concat([df_emp,df_1])\n",
    "df_2"
   ]
  },
  {
   "cell_type": "code",
   "execution_count": 179,
   "outputs": [],
   "source": [
    "class CustomData:\n",
    "    def __init__(self, filepath, list_sheetname):\n",
    "        self.filepath = filepath\n",
    "        self.list_sheetname = self.create_sheet_name(list_sheetname)\n",
    "\n",
    "    def create_sheet_name(self, list_name):\n",
    "        lt = []\n",
    "        for name in list_name:\n",
    "            lt.append(f'Cohort {name}')\n",
    "        return lt\n",
    "\n",
    "    def extract_data_from_list(self):\n",
    "        lt_data = []\n",
    "        for name in self.list_sheetname:\n",
    "            df = pd.read_excel(self.filepath, sheet_name=name, skiprows=1)\n",
    "            improved_df = self.createDataFrameworkSuffix(df)\n",
    "            outputs = self.give_outputs_variables()[0]\n",
    "            df_new = self.creat_custom_dataframe(improved_df, outputs)\n",
    "            lt_data.append(df_new)\n",
    "        return lt_data\n",
    "\n",
    "    def createDataFrameworkSuffix(self, df):\n",
    "        df['Parameter'] = df['Parameter'] + '_' + df['Input/Output'] + '_' + df['Category']\n",
    "        return df\n",
    "\n",
    "    def give_outputs_variables(self):\n",
    "        data = pd.read_excel(self.filepath, sheet_name=self.list_sheetname[0], skiprows=1)\n",
    "        df = self.createDataFrameworkSuffix(data)\n",
    "        outputs = list(df.loc[df['Input/Output'] == 'Output', 'Parameter'])\n",
    "        inputs = list(df.loc[df['Input/Output'] == 'Input', 'Parameter'])\n",
    "        var = inputs + outputs\n",
    "        list_var = [var, outputs]\n",
    "        return list_var\n",
    "    '''\n",
    "    def load_list_outputs_variables(self):\n",
    "        df = self.createDataFrameworkSuffix()\n",
    "        outputs1 = list(df.loc[df['Suffix'] == 'P&L', 'Variable'])\n",
    "        outputs2 = list(df.loc[df['Input/Output'] == 'in', 'Variable'])\n",
    "        outputs3 = list(df.loc[df['Input/Output'] == 'out', 'Variable'])\n",
    "        return [outputs1, outputs2, outputs3]'''\n",
    "\n",
    "    def creat_custom_dataframe(self, dataframe, outputs):\n",
    "        index_names = dataframe['Parameter']\n",
    "        dataframe = dataframe.filter(like=\"Value\", axis=1)\n",
    "        dataframe.index = index_names\n",
    "        # print(dataframe)\n",
    "        df_data = dataframe.loc[outputs]\n",
    "        # print(df_data)\n",
    "        df_input = df_data.transpose()\n",
    "        print(df_input)\n",
    "        return df_input"
   ],
   "metadata": {
    "collapsed": false,
    "pycharm": {
     "name": "#%%\n"
    }
   }
  },
  {
   "cell_type": "code",
   "execution_count": 188,
   "outputs": [
    {
     "name": "stdout",
     "output_type": "stream",
     "text": [
      "Parameter  Month_Input_var  Start_month_Input_var  Start_premium_Input_var  \\\n",
      "Value                  0.0                    0.0                   1200.0   \n",
      "\n",
      "Parameter  Retention_Input_var  Inflation_Input_var  \\\n",
      "Value                      NaN                 1.03   \n",
      "\n",
      "Parameter  Revenue_share_of_premium_for_new_business_Input_var  \\\n",
      "Value                                                    0.4     \n",
      "\n",
      "Parameter  Revenue_share_of_premium_for_renewal_Input_var  \\\n",
      "Value                                                0.05   \n",
      "\n",
      "Parameter  Underwriting_Relative_to_premium_based_on_improvement_first_yr_Input_var  \\\n",
      "Value                                               0.019305                          \n",
      "\n",
      "Parameter  Backoffice_Relative_to_premium_based_on_improvement_first_year_Input_var  \\\n",
      "Value                                                   0.01                          \n",
      "\n",
      "Parameter  Distribution_channel_cost_as_share_of_premium_first_year_Input_var  \\\n",
      "Value                                                    0.2                    \n",
      "\n",
      "Parameter  ...  Net_income_Output_Cash_flow  Taxes_Output_Cash_flow  \\\n",
      "Value      ...                          NaN                     NaN   \n",
      "\n",
      "Parameter  NOPAT_Output_Cash_flow  Working_capital_ow_Loss_Output_Cash_flow  \\\n",
      "Value                         NaN                                       NaN   \n",
      "\n",
      "Parameter  Working_capital_ow_Distribution_channel_Output_Cash_flow  \\\n",
      "Value                                                    NaN          \n",
      "\n",
      "Parameter  Working_capital_ow_expenses_Output_Cash_flow  \\\n",
      "Value                                               NaN   \n",
      "\n",
      "Parameter  Working_capital_Output_Cash_flow  \\\n",
      "Value                                   NaN   \n",
      "\n",
      "Parameter  Operating_cash_flow_Output_Cash_flow  Accumulated_Output_Cash_flow  \\\n",
      "Value                                       NaN                           NaN   \n",
      "\n",
      "Parameter  ROIC_Output_Cash_flow  \n",
      "Value                        NaN  \n",
      "\n",
      "[1 rows x 60 columns]\n",
      "Parameter  Month_Input_var  Start_month_Input_var  Start_premium_Input_var  \\\n",
      "Value                  0.0                    0.0                    100.0   \n",
      "\n",
      "Parameter  Retention_Input_var  Inflation_Input_var  \\\n",
      "Value                      NaN                 1.03   \n",
      "\n",
      "Parameter  Revenue_share_of_premium_for_new_business_Input_var  \\\n",
      "Value                                                    0.4     \n",
      "\n",
      "Parameter  Revenue_share_of_premium_for_renewal_Input_var  \\\n",
      "Value                                                0.05   \n",
      "\n",
      "Parameter  Underwriting_Relative_to_premium_based_on_improvement_first_yr_Input_var  \\\n",
      "Value                                               0.019305                          \n",
      "\n",
      "Parameter  Backoffice_Relative_to_premium_based_on_improvement_first_year_Input_var  \\\n",
      "Value                                                   0.01                          \n",
      "\n",
      "Parameter  Distribution_channel_cost_as_share_of_premium_first_year_Input_var  \\\n",
      "Value                                                    0.2                    \n",
      "\n",
      "Parameter  ...  Net_income_Output_Cash_flow  Taxes_Output_Cash_flow  \\\n",
      "Value      ...                          NaN                     NaN   \n",
      "\n",
      "Parameter  NOPAT_Output_Cash_flow  Working_capital_ow_Loss_Output_Cash_flow  \\\n",
      "Value                         NaN                                       NaN   \n",
      "\n",
      "Parameter  Working_capital_ow_Distribution_channel_Output_Cash_flow  \\\n",
      "Value                                                    NaN          \n",
      "\n",
      "Parameter  Working_capital_ow_expenses_Output_Cash_flow  \\\n",
      "Value                                               NaN   \n",
      "\n",
      "Parameter  Working_capital_Output_Cash_flow  \\\n",
      "Value                                   NaN   \n",
      "\n",
      "Parameter  Operating_cash_flow_Output_Cash_flow  Accumulated_Output_Cash_flow  \\\n",
      "Value                                       NaN                           NaN   \n",
      "\n",
      "Parameter  ROIC_Output_Cash_flow  \n",
      "Value                        NaN  \n",
      "\n",
      "[1 rows x 60 columns]\n"
     ]
    }
   ],
   "source": [
    "da_1 = CustomData(config.data_path, ['G1', 'G2'])\n",
    "lt = da_1.extract_data_from_list()\n",
    "data_input = lt[0]\n",
    "# lt = da_1.give_outputs_variables()\n",
    "# print(len(lt[1]))\n",
    "# type(data_input['Month_Input_var'])\n",
    "# dt = data_input.loc['Value'].copy()\n",
    "#\n",
    "# row_to_concat = pd.DataFrame(dt).transpose()\n",
    "# report = pd.concat([data_input, row_to_concat], axis=0)\n",
    "# data_input.loc['Value', 'Month_Input_var'] = 3\n",
    "adata = data_input.loc['Value','Inflation_Input_var']\n",
    "data_input.loc['Value','Start_premium_Input_var'] *= adata\n"
   ],
   "metadata": {
    "collapsed": false,
    "pycharm": {
     "name": "#%%\n"
    }
   }
  },
  {
   "cell_type": "markdown",
   "source": [
    "## Comment on Bug\n",
    "Incompatible indexing shit all use .lco!!!!!\n",
    "adata = data_input.loc['Value','Inflation_Input_var']\n",
    "data_input.loc['Value','Start_premium_Input_var'] *= adata"
   ],
   "metadata": {
    "collapsed": false
   }
  },
  {
   "cell_type": "code",
   "execution_count": 109,
   "outputs": [
    {
     "data": {
      "text/plain": "    Unnamed: 0                                         Yearly Var  \\\n0          NaN                                              Month   \n1          NaN                                        Start_month   \n2          NaN                                      Start_premium   \n3          NaN                                          Retention   \n4          NaN                                          Inflation   \n5          NaN          Revenue_share_of_premium_for_new_business   \n6          NaN               Revenue_share_of_premium_for_renewal   \n7          NaN  Underwriting_Relative_to_premium_based_on_impr...   \n8          NaN  Backoffice_Relative_to_premium_based_on_improv...   \n9          NaN  Distribution_channel_cost_as_share_of_premium_...   \n10         NaN  Distribution_channel_cost_as_share_of_premium_...   \n11         NaN  MGA_expense_ratio_as_share_of_premium_volume_f...   \n12         NaN  MGA_expense_ratio_as_share_of_premium_volume_n...   \n13         NaN  MGA_outsourcing_cost_ratio_as_share_of_premium...   \n14         NaN  MGA_outsourcing_cost_ratio_as_share_of_premium...   \n15         NaN                       Taxes_as_share_of_net_income   \n16         NaN                            Carrier_loss_on_premium   \n17         NaN                 Working_capital_ratio_carrier_loss   \n18         NaN         Working_capital_ratio_Distribution_channel   \n19         NaN                     Working_capital_ratio_Expenses   \n20         NaN                  Working_capital_ratio_Outsourcing   \n21         NaN                                                NaN   \n22         NaN                                                NaN   \n23         NaN                                                NaN   \n24         NaN                                                NaN   \n25         NaN                                                NaN   \n26         NaN                                                NaN   \n27         NaN                                                NaN   \n28         NaN                                                NaN   \n29         NaN                                                NaN   \n30         NaN                                                NaN   \n31         NaN                                                NaN   \n32         NaN                                                NaN   \n33         NaN                                                NaN   \n34         NaN                                                NaN   \n35         NaN                                                NaN   \n36         NaN                                                NaN   \n37         NaN                                                NaN   \n38         NaN                                                NaN   \n39         NaN                                                NaN   \n40         NaN                                                NaN   \n41         NaN                                                NaN   \n42         NaN                                                NaN   \n43         NaN                                                NaN   \n44         NaN                                                NaN   \n45         NaN                                                NaN   \n46         NaN                                                NaN   \n47         NaN                                                NaN   \n48         NaN                                                NaN   \n49         NaN                                                NaN   \n50         NaN                                                NaN   \n51         NaN                                                NaN   \n52         NaN                                                NaN   \n53         NaN                                                NaN   \n54         NaN                                                NaN   \n55         NaN                                                NaN   \n56         NaN                                                NaN   \n57         NaN                                                NaN   \n58         NaN                                                NaN   \n59         NaN                                                NaN   \n\n              Unnamed: 2         Description             Category  \\\n0                  start                 NaN                  var   \n1                      0                 NaN                  var   \n2                    100  init para inCohort                  var   \n3   Added_in_Python_code                 NaN                  var   \n4                   1.03                 NaN                  var   \n5                    0.4                 NaN                  var   \n6                   0.05                 NaN                  var   \n7               0.019305                 NaN                  var   \n8                   0.01                 NaN                  var   \n9                    0.2                 NaN                  var   \n10                     0                 NaN                  var   \n11                 0.054                 NaN                  var   \n12                 0.054                 NaN                  var   \n13                     0                 NaN                  var   \n14                     0                 NaN                  var   \n15                   0.3                 NaN                  var   \n16                   0.7                 NaN                  var   \n17                     0                 NaN                  var   \n18                   0.4                 NaN                  var   \n19                   0.4                 NaN                  var   \n20                   0.4                 NaN                  var   \n21                   NaN                 NaN          Profit_Loss   \n22                   NaN                 NaN          Profit_Loss   \n23                   NaN                 NaN          Profit_Loss   \n24                   NaN                 NaN          Profit_Loss   \n25                   NaN                 NaN          Profit_Loss   \n26                   NaN                 NaN          Profit_Loss   \n27                   NaN                 NaN          Profit_Loss   \n28                   NaN                 NaN          Profit_Loss   \n29                   NaN                 NaN          Profit_Loss   \n30                   NaN                 NaN          Profit_Loss   \n31                   NaN                 NaN          Profit_Loss   \n32                   NaN                 NaN          Profit_Loss   \n33                   NaN                 NaN          Profit_Loss   \n34                   NaN                 NaN          Profit_Loss   \n35                   NaN                 NaN          Profit_Loss   \n36                   NaN                 NaN          Profit_Loss   \n37                   NaN                 NaN  Profit_Loss_Carrier   \n38                   NaN                 NaN            Cash_flow   \n39                   NaN                 NaN            Cash_flow   \n40                   NaN                 NaN            Cash_flow   \n41                   NaN                 NaN            Cash_flow   \n42                   NaN                 NaN            Cash_flow   \n43                   NaN                 NaN            Cash_flow   \n44                   NaN                 NaN            Cash_flow   \n45                   NaN                 NaN            Cash_flow   \n46                   NaN                 NaN            Cash_flow   \n47                   NaN                 NaN            Cash_flow   \n48                   NaN                 NaN            Cash_flow   \n49                   NaN                 NaN            Cash_flow   \n50                   NaN                 NaN            Cash_flow   \n51                   NaN                 NaN            Cash_flow   \n52                   NaN                 NaN            Cash_flow   \n53                   NaN                 NaN            Cash_flow   \n54                   NaN                 NaN            Cash_flow   \n55                   NaN                 NaN            Cash_flow   \n56                   NaN                 NaN            Cash_flow   \n57                   NaN                 NaN            Cash_flow   \n58                   NaN                 NaN            Cash_flow   \n59                   NaN                 NaN            Cash_flow   \n\n   Input/Output                                          Parameter  \\\n0         Input                                    Input_Month_var   \n1         Input                              Input_Start_month_var   \n2         Input                            Input_Start_premium_var   \n3         Input                                Input_Retention_var   \n4         Input                                Input_Inflation_var   \n5         Input  Input_Revenue_share_of_premium_for_new_busines...   \n6         Input     Input_Revenue_share_of_premium_for_renewal_var   \n7         Input  Input_Underwriting_Relative_to_premium_based_o...   \n8         Input  Input_Backoffice_Relative_to_premium_based_on_...   \n9         Input  Input_Distribution_channel_cost_as_share_of_pr...   \n10        Input  Input_Distribution_channel_cost_as_share_of_pr...   \n11        Input  Input_MGA_expense_ratio_as_share_of_premium_vo...   \n12        Input  Input_MGA_expense_ratio_as_share_of_premium_vo...   \n13        Input  Input_MGA_outsourcing_cost_ratio_as_share_of_p...   \n14        Input  Input_MGA_outsourcing_cost_ratio_as_share_of_p...   \n15        Input             Input_Taxes_as_share_of_net_income_var   \n16        Input                  Input_Carrier_loss_on_premium_var   \n17        Input       Input_Working_capital_ratio_carrier_loss_var   \n18        Input  Input_Working_capital_ratio_Distribution_chann...   \n19        Input           Input_Working_capital_ratio_Expenses_var   \n20        Input        Input_Working_capital_ratio_Outsourcing_var   \n21       Output       Output_Transacted_premium_volume_Profit_Loss   \n22       Output                         Output_Revenue_Profit_Loss   \n23       Output                         Output_Network_Profit_Loss   \n24       Output                  Output_ow_Origination_Profit_Loss   \n25       Output                        Output_Platform_Profit_Loss   \n26       Output          Output_ow_Underwriting_engine_Profit_Loss   \n27       Output              Output_ow_Back_office_app_Profit_Loss   \n28       Output                           Output_Costs_Profit_Loss   \n29       Output                         Output_ow_Loss_Profit_Loss   \n30       Output         Output_ow_Distribution_channel_Profit_Loss   \n31       Output                     Output_ow_expenses_Profit_Loss   \n32       Output                  Output_ow_outsourcing_Profit_Loss   \n33       Output                      Output_Net_income_Profit_Loss   \n34       Output                           Output_Taxes_Profit_Loss   \n35       Output                           Output_NOPAT_Profit_Loss   \n36       Output                     Output_Accumulated_Profit_Loss   \n37       Output                    Output_Loss_Profit_Loss_Carrier   \n38       Output         Output_Transacted_premium_volume_Cash_flow   \n39       Output                           Output_Revenue_Cash_flow   \n40       Output                           Output_Network_Cash_flow   \n41       Output                    Output_ow_Origination_Cash_flow   \n42       Output                          Output_Platform_Cash_flow   \n43       Output            Output_ow_Underwriting_engine_Cash_flow   \n44       Output                Output_ow_Back_office_app_Cash_flow   \n45       Output                             Output_Costs_Cash_flow   \n46       Output                           Output_ow_Loss_Cash_flow   \n47       Output           Output_ow_Distribution_channel_Cash_flow   \n48       Output                       Output_ow_expenses_Cash_flow   \n49       Output                    Output_ow_outsourcing_Cash_flow   \n50       Output                        Output_Net_income_Cash_flow   \n51       Output                             Output_Taxes_Cash_flow   \n52       Output                             Output_NOPAT_Cash_flow   \n53       Output                   Output_Working_capital_Cash_flow   \n54       Output                           Output_ow_Loss_Cash_flow   \n55       Output           Output_ow_Distribution_channel_Cash_flow   \n56       Output                       Output_ow_expenses_Cash_flow   \n57       Output               Output_Operating_cash_flow_Cash_flow   \n58       Output                       Output_Accumulated_Cash_flow   \n59       Output                              Output_ROIC_Cash_flow   \n\n         Value  Unnamed: 8  Unnamed: 9  ...  Unnamed: 131 Unnamed: 132  \\\n0     0.000000         1.0         2.0  ...           NaN          NaN   \n1     0.000000         NaN         NaN  ...           NaN          NaN   \n2   100.000000         NaN         NaN  ...           NaN          NaN   \n3          NaN         NaN         NaN  ...           NaN          NaN   \n4     1.030000         NaN         NaN  ...           NaN          NaN   \n5     0.400000         NaN         NaN  ...           NaN          NaN   \n6     0.050000         NaN         NaN  ...           NaN          NaN   \n7     0.019305         NaN         NaN  ...           NaN          NaN   \n8     0.010000         NaN         NaN  ...           NaN          NaN   \n9     0.200000         NaN         NaN  ...           NaN          NaN   \n10    0.000000         NaN         NaN  ...           NaN          NaN   \n11    0.054000         NaN         NaN  ...           NaN          NaN   \n12    0.054000         NaN         NaN  ...           NaN          NaN   \n13    0.000000         NaN         NaN  ...           NaN          NaN   \n14    0.000000         NaN         NaN  ...           NaN          NaN   \n15    0.300000         NaN         NaN  ...           NaN          NaN   \n16    0.700000         NaN         NaN  ...           NaN          NaN   \n17    0.000000         NaN         NaN  ...           NaN          NaN   \n18    0.400000         NaN         NaN  ...           NaN          NaN   \n19    0.400000         NaN         NaN  ...           NaN          NaN   \n20    0.400000         NaN         NaN  ...           NaN          NaN   \n21         NaN         NaN         NaN  ...           NaN          NaN   \n22         NaN         NaN         NaN  ...           NaN          NaN   \n23         NaN         NaN         NaN  ...           NaN          NaN   \n24         NaN         NaN         NaN  ...           NaN          NaN   \n25         NaN         NaN         NaN  ...           NaN          NaN   \n26         NaN         NaN         NaN  ...           NaN          NaN   \n27         NaN         NaN         NaN  ...           NaN          NaN   \n28         NaN         NaN         NaN  ...           NaN          NaN   \n29         NaN         NaN         NaN  ...           NaN          NaN   \n30         NaN         NaN         NaN  ...           NaN          NaN   \n31         NaN         NaN         NaN  ...           NaN          NaN   \n32         NaN         NaN         NaN  ...           NaN          NaN   \n33         NaN         NaN         NaN  ...           NaN          NaN   \n34         NaN         NaN         NaN  ...           NaN          NaN   \n35         NaN         NaN         NaN  ...           NaN          NaN   \n36         NaN         NaN         NaN  ...           NaN          NaN   \n37         NaN         NaN         NaN  ...           NaN          NaN   \n38         NaN         NaN         NaN  ...           NaN          NaN   \n39         NaN         NaN         NaN  ...           NaN          NaN   \n40         NaN         NaN         NaN  ...           NaN          NaN   \n41         NaN         NaN         NaN  ...           NaN          NaN   \n42         NaN         NaN         NaN  ...           NaN          NaN   \n43         NaN         NaN         NaN  ...           NaN          NaN   \n44         NaN         NaN         NaN  ...           NaN          NaN   \n45         NaN         NaN         NaN  ...           NaN          NaN   \n46         NaN         NaN         NaN  ...           NaN          NaN   \n47         NaN         NaN         NaN  ...           NaN          NaN   \n48         NaN         NaN         NaN  ...           NaN          NaN   \n49         NaN         NaN         NaN  ...           NaN          NaN   \n50         NaN         NaN         NaN  ...           NaN          NaN   \n51         NaN         NaN         NaN  ...           NaN          NaN   \n52         NaN         NaN         NaN  ...           NaN          NaN   \n53         NaN         NaN         NaN  ...           NaN          NaN   \n54         NaN         NaN         NaN  ...           NaN          NaN   \n55         NaN         NaN         NaN  ...           NaN          NaN   \n56         NaN         NaN         NaN  ...           NaN          NaN   \n57         NaN         NaN         NaN  ...           NaN          NaN   \n58         NaN         NaN         NaN  ...           NaN          NaN   \n59         NaN         NaN         NaN  ...           NaN          NaN   \n\n    Unnamed: 133  Unnamed: 134  Unnamed: 135  Unnamed: 136  Unnamed: 137  \\\n0            NaN           NaN           NaN           NaN           NaN   \n1            NaN           NaN           NaN           NaN           NaN   \n2            NaN           NaN           NaN           NaN           NaN   \n3            NaN           NaN           NaN           NaN           NaN   \n4            NaN           NaN           NaN           NaN           NaN   \n5            NaN           NaN           NaN           NaN           NaN   \n6            NaN           NaN           NaN           NaN           NaN   \n7            NaN           NaN           NaN           NaN           NaN   \n8            NaN           NaN           NaN           NaN           NaN   \n9            NaN           NaN           NaN           NaN           NaN   \n10           NaN           NaN           NaN           NaN           NaN   \n11           NaN           NaN           NaN           NaN           NaN   \n12           NaN           NaN           NaN           NaN           NaN   \n13           NaN           NaN           NaN           NaN           NaN   \n14           NaN           NaN           NaN           NaN           NaN   \n15           NaN           NaN           NaN           NaN           NaN   \n16           NaN           NaN           NaN           NaN           NaN   \n17           NaN           NaN           NaN           NaN           NaN   \n18           NaN           NaN           NaN           NaN           NaN   \n19           NaN           NaN           NaN           NaN           NaN   \n20           NaN           NaN           NaN           NaN           NaN   \n21           NaN           NaN           NaN           NaN           NaN   \n22           NaN           NaN           NaN           NaN           NaN   \n23           NaN           NaN           NaN           NaN           NaN   \n24           NaN           NaN           NaN           NaN           NaN   \n25           NaN           NaN           NaN           NaN           NaN   \n26           NaN           NaN           NaN           NaN           NaN   \n27           NaN           NaN           NaN           NaN           NaN   \n28           NaN           NaN           NaN           NaN           NaN   \n29           NaN           NaN           NaN           NaN           NaN   \n30           NaN           NaN           NaN           NaN           NaN   \n31           NaN           NaN           NaN           NaN           NaN   \n32           NaN           NaN           NaN           NaN           NaN   \n33           NaN           NaN           NaN           NaN           NaN   \n34           NaN           NaN           NaN           NaN           NaN   \n35           NaN           NaN           NaN           NaN           NaN   \n36           NaN           NaN           NaN           NaN           NaN   \n37           NaN           NaN           NaN           NaN           NaN   \n38           NaN           NaN           NaN           NaN           NaN   \n39           NaN           NaN           NaN           NaN           NaN   \n40           NaN           NaN           NaN           NaN           NaN   \n41           NaN           NaN           NaN           NaN           NaN   \n42           NaN           NaN           NaN           NaN           NaN   \n43           NaN           NaN           NaN           NaN           NaN   \n44           NaN           NaN           NaN           NaN           NaN   \n45           NaN           NaN           NaN           NaN           NaN   \n46           NaN           NaN           NaN           NaN           NaN   \n47           NaN           NaN           NaN           NaN           NaN   \n48           NaN           NaN           NaN           NaN           NaN   \n49           NaN           NaN           NaN           NaN           NaN   \n50           NaN           NaN           NaN           NaN           NaN   \n51           NaN           NaN           NaN           NaN           NaN   \n52           NaN           NaN           NaN           NaN           NaN   \n53           NaN           NaN           NaN           NaN           NaN   \n54           NaN           NaN           NaN           NaN           NaN   \n55           NaN           NaN           NaN           NaN           NaN   \n56           NaN           NaN           NaN           NaN           NaN   \n57           NaN           NaN           NaN           NaN           NaN   \n58           NaN           NaN           NaN           NaN           NaN   \n59           NaN           NaN           NaN           NaN           NaN   \n\n    Unnamed: 138  Unnamed: 139    a  \n0            NaN           NaN  NaN  \n1            NaN           NaN  NaN  \n2            NaN           NaN    a  \n3            NaN           NaN    a  \n4            NaN           NaN    a  \n5            NaN           NaN    a  \n6            NaN           NaN    a  \n7            NaN           NaN    a  \n8            NaN           NaN    a  \n9            NaN           NaN    a  \n10           NaN           NaN    a  \n11           NaN           NaN    a  \n12           NaN           NaN    a  \n13           NaN           NaN    a  \n14           NaN           NaN    a  \n15           NaN           NaN    a  \n16           NaN           NaN    a  \n17           NaN           NaN    a  \n18           NaN           NaN    a  \n19           NaN           NaN    a  \n20           NaN           NaN    a  \n21           NaN           NaN    a  \n22           NaN           NaN    a  \n23           NaN           NaN    a  \n24           NaN           NaN    a  \n25           NaN           NaN    a  \n26           NaN           NaN    a  \n27           NaN           NaN    a  \n28           NaN           NaN    a  \n29           NaN           NaN    a  \n30           NaN           NaN    a  \n31           NaN           NaN    a  \n32           NaN           NaN    a  \n33           NaN           NaN    a  \n34           NaN           NaN    a  \n35           NaN           NaN    a  \n36           NaN           NaN    a  \n37           NaN           NaN    a  \n38           NaN           NaN    a  \n39           NaN           NaN    a  \n40           NaN           NaN    a  \n41           NaN           NaN    a  \n42           NaN           NaN    a  \n43           NaN           NaN    a  \n44           NaN           NaN    a  \n45           NaN           NaN    a  \n46           NaN           NaN    a  \n47           NaN           NaN    a  \n48           NaN           NaN    a  \n49           NaN           NaN    a  \n50           NaN           NaN    a  \n51           NaN           NaN    a  \n52           NaN           NaN    a  \n53           NaN           NaN    a  \n54           NaN           NaN    a  \n55           NaN           NaN    a  \n56           NaN           NaN    a  \n57           NaN           NaN    a  \n58           NaN           NaN    a  \n59           NaN           NaN    a  \n\n[60 rows x 141 columns]",
      "text/html": "<div>\n<style scoped>\n    .dataframe tbody tr th:only-of-type {\n        vertical-align: middle;\n    }\n\n    .dataframe tbody tr th {\n        vertical-align: top;\n    }\n\n    .dataframe thead th {\n        text-align: right;\n    }\n</style>\n<table border=\"1\" class=\"dataframe\">\n  <thead>\n    <tr style=\"text-align: right;\">\n      <th></th>\n      <th>Unnamed: 0</th>\n      <th>Yearly Var</th>\n      <th>Unnamed: 2</th>\n      <th>Description</th>\n      <th>Category</th>\n      <th>Input/Output</th>\n      <th>Parameter</th>\n      <th>Value</th>\n      <th>Unnamed: 8</th>\n      <th>Unnamed: 9</th>\n      <th>...</th>\n      <th>Unnamed: 131</th>\n      <th>Unnamed: 132</th>\n      <th>Unnamed: 133</th>\n      <th>Unnamed: 134</th>\n      <th>Unnamed: 135</th>\n      <th>Unnamed: 136</th>\n      <th>Unnamed: 137</th>\n      <th>Unnamed: 138</th>\n      <th>Unnamed: 139</th>\n      <th>a</th>\n    </tr>\n  </thead>\n  <tbody>\n    <tr>\n      <th>0</th>\n      <td>NaN</td>\n      <td>Month</td>\n      <td>start</td>\n      <td>NaN</td>\n      <td>var</td>\n      <td>Input</td>\n      <td>Input_Month_var</td>\n      <td>0.000000</td>\n      <td>1.0</td>\n      <td>2.0</td>\n      <td>...</td>\n      <td>NaN</td>\n      <td>NaN</td>\n      <td>NaN</td>\n      <td>NaN</td>\n      <td>NaN</td>\n      <td>NaN</td>\n      <td>NaN</td>\n      <td>NaN</td>\n      <td>NaN</td>\n      <td>NaN</td>\n    </tr>\n    <tr>\n      <th>1</th>\n      <td>NaN</td>\n      <td>Start_month</td>\n      <td>0</td>\n      <td>NaN</td>\n      <td>var</td>\n      <td>Input</td>\n      <td>Input_Start_month_var</td>\n      <td>0.000000</td>\n      <td>NaN</td>\n      <td>NaN</td>\n      <td>...</td>\n      <td>NaN</td>\n      <td>NaN</td>\n      <td>NaN</td>\n      <td>NaN</td>\n      <td>NaN</td>\n      <td>NaN</td>\n      <td>NaN</td>\n      <td>NaN</td>\n      <td>NaN</td>\n      <td>NaN</td>\n    </tr>\n    <tr>\n      <th>2</th>\n      <td>NaN</td>\n      <td>Start_premium</td>\n      <td>100</td>\n      <td>init para inCohort</td>\n      <td>var</td>\n      <td>Input</td>\n      <td>Input_Start_premium_var</td>\n      <td>100.000000</td>\n      <td>NaN</td>\n      <td>NaN</td>\n      <td>...</td>\n      <td>NaN</td>\n      <td>NaN</td>\n      <td>NaN</td>\n      <td>NaN</td>\n      <td>NaN</td>\n      <td>NaN</td>\n      <td>NaN</td>\n      <td>NaN</td>\n      <td>NaN</td>\n      <td>a</td>\n    </tr>\n    <tr>\n      <th>3</th>\n      <td>NaN</td>\n      <td>Retention</td>\n      <td>Added_in_Python_code</td>\n      <td>NaN</td>\n      <td>var</td>\n      <td>Input</td>\n      <td>Input_Retention_var</td>\n      <td>NaN</td>\n      <td>NaN</td>\n      <td>NaN</td>\n      <td>...</td>\n      <td>NaN</td>\n      <td>NaN</td>\n      <td>NaN</td>\n      <td>NaN</td>\n      <td>NaN</td>\n      <td>NaN</td>\n      <td>NaN</td>\n      <td>NaN</td>\n      <td>NaN</td>\n      <td>a</td>\n    </tr>\n    <tr>\n      <th>4</th>\n      <td>NaN</td>\n      <td>Inflation</td>\n      <td>1.03</td>\n      <td>NaN</td>\n      <td>var</td>\n      <td>Input</td>\n      <td>Input_Inflation_var</td>\n      <td>1.030000</td>\n      <td>NaN</td>\n      <td>NaN</td>\n      <td>...</td>\n      <td>NaN</td>\n      <td>NaN</td>\n      <td>NaN</td>\n      <td>NaN</td>\n      <td>NaN</td>\n      <td>NaN</td>\n      <td>NaN</td>\n      <td>NaN</td>\n      <td>NaN</td>\n      <td>a</td>\n    </tr>\n    <tr>\n      <th>5</th>\n      <td>NaN</td>\n      <td>Revenue_share_of_premium_for_new_business</td>\n      <td>0.4</td>\n      <td>NaN</td>\n      <td>var</td>\n      <td>Input</td>\n      <td>Input_Revenue_share_of_premium_for_new_busines...</td>\n      <td>0.400000</td>\n      <td>NaN</td>\n      <td>NaN</td>\n      <td>...</td>\n      <td>NaN</td>\n      <td>NaN</td>\n      <td>NaN</td>\n      <td>NaN</td>\n      <td>NaN</td>\n      <td>NaN</td>\n      <td>NaN</td>\n      <td>NaN</td>\n      <td>NaN</td>\n      <td>a</td>\n    </tr>\n    <tr>\n      <th>6</th>\n      <td>NaN</td>\n      <td>Revenue_share_of_premium_for_renewal</td>\n      <td>0.05</td>\n      <td>NaN</td>\n      <td>var</td>\n      <td>Input</td>\n      <td>Input_Revenue_share_of_premium_for_renewal_var</td>\n      <td>0.050000</td>\n      <td>NaN</td>\n      <td>NaN</td>\n      <td>...</td>\n      <td>NaN</td>\n      <td>NaN</td>\n      <td>NaN</td>\n      <td>NaN</td>\n      <td>NaN</td>\n      <td>NaN</td>\n      <td>NaN</td>\n      <td>NaN</td>\n      <td>NaN</td>\n      <td>a</td>\n    </tr>\n    <tr>\n      <th>7</th>\n      <td>NaN</td>\n      <td>Underwriting_Relative_to_premium_based_on_impr...</td>\n      <td>0.019305</td>\n      <td>NaN</td>\n      <td>var</td>\n      <td>Input</td>\n      <td>Input_Underwriting_Relative_to_premium_based_o...</td>\n      <td>0.019305</td>\n      <td>NaN</td>\n      <td>NaN</td>\n      <td>...</td>\n      <td>NaN</td>\n      <td>NaN</td>\n      <td>NaN</td>\n      <td>NaN</td>\n      <td>NaN</td>\n      <td>NaN</td>\n      <td>NaN</td>\n      <td>NaN</td>\n      <td>NaN</td>\n      <td>a</td>\n    </tr>\n    <tr>\n      <th>8</th>\n      <td>NaN</td>\n      <td>Backoffice_Relative_to_premium_based_on_improv...</td>\n      <td>0.01</td>\n      <td>NaN</td>\n      <td>var</td>\n      <td>Input</td>\n      <td>Input_Backoffice_Relative_to_premium_based_on_...</td>\n      <td>0.010000</td>\n      <td>NaN</td>\n      <td>NaN</td>\n      <td>...</td>\n      <td>NaN</td>\n      <td>NaN</td>\n      <td>NaN</td>\n      <td>NaN</td>\n      <td>NaN</td>\n      <td>NaN</td>\n      <td>NaN</td>\n      <td>NaN</td>\n      <td>NaN</td>\n      <td>a</td>\n    </tr>\n    <tr>\n      <th>9</th>\n      <td>NaN</td>\n      <td>Distribution_channel_cost_as_share_of_premium_...</td>\n      <td>0.2</td>\n      <td>NaN</td>\n      <td>var</td>\n      <td>Input</td>\n      <td>Input_Distribution_channel_cost_as_share_of_pr...</td>\n      <td>0.200000</td>\n      <td>NaN</td>\n      <td>NaN</td>\n      <td>...</td>\n      <td>NaN</td>\n      <td>NaN</td>\n      <td>NaN</td>\n      <td>NaN</td>\n      <td>NaN</td>\n      <td>NaN</td>\n      <td>NaN</td>\n      <td>NaN</td>\n      <td>NaN</td>\n      <td>a</td>\n    </tr>\n    <tr>\n      <th>10</th>\n      <td>NaN</td>\n      <td>Distribution_channel_cost_as_share_of_premium_...</td>\n      <td>0</td>\n      <td>NaN</td>\n      <td>var</td>\n      <td>Input</td>\n      <td>Input_Distribution_channel_cost_as_share_of_pr...</td>\n      <td>0.000000</td>\n      <td>NaN</td>\n      <td>NaN</td>\n      <td>...</td>\n      <td>NaN</td>\n      <td>NaN</td>\n      <td>NaN</td>\n      <td>NaN</td>\n      <td>NaN</td>\n      <td>NaN</td>\n      <td>NaN</td>\n      <td>NaN</td>\n      <td>NaN</td>\n      <td>a</td>\n    </tr>\n    <tr>\n      <th>11</th>\n      <td>NaN</td>\n      <td>MGA_expense_ratio_as_share_of_premium_volume_f...</td>\n      <td>0.054</td>\n      <td>NaN</td>\n      <td>var</td>\n      <td>Input</td>\n      <td>Input_MGA_expense_ratio_as_share_of_premium_vo...</td>\n      <td>0.054000</td>\n      <td>NaN</td>\n      <td>NaN</td>\n      <td>...</td>\n      <td>NaN</td>\n      <td>NaN</td>\n      <td>NaN</td>\n      <td>NaN</td>\n      <td>NaN</td>\n      <td>NaN</td>\n      <td>NaN</td>\n      <td>NaN</td>\n      <td>NaN</td>\n      <td>a</td>\n    </tr>\n    <tr>\n      <th>12</th>\n      <td>NaN</td>\n      <td>MGA_expense_ratio_as_share_of_premium_volume_n...</td>\n      <td>0.054</td>\n      <td>NaN</td>\n      <td>var</td>\n      <td>Input</td>\n      <td>Input_MGA_expense_ratio_as_share_of_premium_vo...</td>\n      <td>0.054000</td>\n      <td>NaN</td>\n      <td>NaN</td>\n      <td>...</td>\n      <td>NaN</td>\n      <td>NaN</td>\n      <td>NaN</td>\n      <td>NaN</td>\n      <td>NaN</td>\n      <td>NaN</td>\n      <td>NaN</td>\n      <td>NaN</td>\n      <td>NaN</td>\n      <td>a</td>\n    </tr>\n    <tr>\n      <th>13</th>\n      <td>NaN</td>\n      <td>MGA_outsourcing_cost_ratio_as_share_of_premium...</td>\n      <td>0</td>\n      <td>NaN</td>\n      <td>var</td>\n      <td>Input</td>\n      <td>Input_MGA_outsourcing_cost_ratio_as_share_of_p...</td>\n      <td>0.000000</td>\n      <td>NaN</td>\n      <td>NaN</td>\n      <td>...</td>\n      <td>NaN</td>\n      <td>NaN</td>\n      <td>NaN</td>\n      <td>NaN</td>\n      <td>NaN</td>\n      <td>NaN</td>\n      <td>NaN</td>\n      <td>NaN</td>\n      <td>NaN</td>\n      <td>a</td>\n    </tr>\n    <tr>\n      <th>14</th>\n      <td>NaN</td>\n      <td>MGA_outsourcing_cost_ratio_as_share_of_premium...</td>\n      <td>0</td>\n      <td>NaN</td>\n      <td>var</td>\n      <td>Input</td>\n      <td>Input_MGA_outsourcing_cost_ratio_as_share_of_p...</td>\n      <td>0.000000</td>\n      <td>NaN</td>\n      <td>NaN</td>\n      <td>...</td>\n      <td>NaN</td>\n      <td>NaN</td>\n      <td>NaN</td>\n      <td>NaN</td>\n      <td>NaN</td>\n      <td>NaN</td>\n      <td>NaN</td>\n      <td>NaN</td>\n      <td>NaN</td>\n      <td>a</td>\n    </tr>\n    <tr>\n      <th>15</th>\n      <td>NaN</td>\n      <td>Taxes_as_share_of_net_income</td>\n      <td>0.3</td>\n      <td>NaN</td>\n      <td>var</td>\n      <td>Input</td>\n      <td>Input_Taxes_as_share_of_net_income_var</td>\n      <td>0.300000</td>\n      <td>NaN</td>\n      <td>NaN</td>\n      <td>...</td>\n      <td>NaN</td>\n      <td>NaN</td>\n      <td>NaN</td>\n      <td>NaN</td>\n      <td>NaN</td>\n      <td>NaN</td>\n      <td>NaN</td>\n      <td>NaN</td>\n      <td>NaN</td>\n      <td>a</td>\n    </tr>\n    <tr>\n      <th>16</th>\n      <td>NaN</td>\n      <td>Carrier_loss_on_premium</td>\n      <td>0.7</td>\n      <td>NaN</td>\n      <td>var</td>\n      <td>Input</td>\n      <td>Input_Carrier_loss_on_premium_var</td>\n      <td>0.700000</td>\n      <td>NaN</td>\n      <td>NaN</td>\n      <td>...</td>\n      <td>NaN</td>\n      <td>NaN</td>\n      <td>NaN</td>\n      <td>NaN</td>\n      <td>NaN</td>\n      <td>NaN</td>\n      <td>NaN</td>\n      <td>NaN</td>\n      <td>NaN</td>\n      <td>a</td>\n    </tr>\n    <tr>\n      <th>17</th>\n      <td>NaN</td>\n      <td>Working_capital_ratio_carrier_loss</td>\n      <td>0</td>\n      <td>NaN</td>\n      <td>var</td>\n      <td>Input</td>\n      <td>Input_Working_capital_ratio_carrier_loss_var</td>\n      <td>0.000000</td>\n      <td>NaN</td>\n      <td>NaN</td>\n      <td>...</td>\n      <td>NaN</td>\n      <td>NaN</td>\n      <td>NaN</td>\n      <td>NaN</td>\n      <td>NaN</td>\n      <td>NaN</td>\n      <td>NaN</td>\n      <td>NaN</td>\n      <td>NaN</td>\n      <td>a</td>\n    </tr>\n    <tr>\n      <th>18</th>\n      <td>NaN</td>\n      <td>Working_capital_ratio_Distribution_channel</td>\n      <td>0.4</td>\n      <td>NaN</td>\n      <td>var</td>\n      <td>Input</td>\n      <td>Input_Working_capital_ratio_Distribution_chann...</td>\n      <td>0.400000</td>\n      <td>NaN</td>\n      <td>NaN</td>\n      <td>...</td>\n      <td>NaN</td>\n      <td>NaN</td>\n      <td>NaN</td>\n      <td>NaN</td>\n      <td>NaN</td>\n      <td>NaN</td>\n      <td>NaN</td>\n      <td>NaN</td>\n      <td>NaN</td>\n      <td>a</td>\n    </tr>\n    <tr>\n      <th>19</th>\n      <td>NaN</td>\n      <td>Working_capital_ratio_Expenses</td>\n      <td>0.4</td>\n      <td>NaN</td>\n      <td>var</td>\n      <td>Input</td>\n      <td>Input_Working_capital_ratio_Expenses_var</td>\n      <td>0.400000</td>\n      <td>NaN</td>\n      <td>NaN</td>\n      <td>...</td>\n      <td>NaN</td>\n      <td>NaN</td>\n      <td>NaN</td>\n      <td>NaN</td>\n      <td>NaN</td>\n      <td>NaN</td>\n      <td>NaN</td>\n      <td>NaN</td>\n      <td>NaN</td>\n      <td>a</td>\n    </tr>\n    <tr>\n      <th>20</th>\n      <td>NaN</td>\n      <td>Working_capital_ratio_Outsourcing</td>\n      <td>0.4</td>\n      <td>NaN</td>\n      <td>var</td>\n      <td>Input</td>\n      <td>Input_Working_capital_ratio_Outsourcing_var</td>\n      <td>0.400000</td>\n      <td>NaN</td>\n      <td>NaN</td>\n      <td>...</td>\n      <td>NaN</td>\n      <td>NaN</td>\n      <td>NaN</td>\n      <td>NaN</td>\n      <td>NaN</td>\n      <td>NaN</td>\n      <td>NaN</td>\n      <td>NaN</td>\n      <td>NaN</td>\n      <td>a</td>\n    </tr>\n    <tr>\n      <th>21</th>\n      <td>NaN</td>\n      <td>NaN</td>\n      <td>NaN</td>\n      <td>NaN</td>\n      <td>Profit_Loss</td>\n      <td>Output</td>\n      <td>Output_Transacted_premium_volume_Profit_Loss</td>\n      <td>NaN</td>\n      <td>NaN</td>\n      <td>NaN</td>\n      <td>...</td>\n      <td>NaN</td>\n      <td>NaN</td>\n      <td>NaN</td>\n      <td>NaN</td>\n      <td>NaN</td>\n      <td>NaN</td>\n      <td>NaN</td>\n      <td>NaN</td>\n      <td>NaN</td>\n      <td>a</td>\n    </tr>\n    <tr>\n      <th>22</th>\n      <td>NaN</td>\n      <td>NaN</td>\n      <td>NaN</td>\n      <td>NaN</td>\n      <td>Profit_Loss</td>\n      <td>Output</td>\n      <td>Output_Revenue_Profit_Loss</td>\n      <td>NaN</td>\n      <td>NaN</td>\n      <td>NaN</td>\n      <td>...</td>\n      <td>NaN</td>\n      <td>NaN</td>\n      <td>NaN</td>\n      <td>NaN</td>\n      <td>NaN</td>\n      <td>NaN</td>\n      <td>NaN</td>\n      <td>NaN</td>\n      <td>NaN</td>\n      <td>a</td>\n    </tr>\n    <tr>\n      <th>23</th>\n      <td>NaN</td>\n      <td>NaN</td>\n      <td>NaN</td>\n      <td>NaN</td>\n      <td>Profit_Loss</td>\n      <td>Output</td>\n      <td>Output_Network_Profit_Loss</td>\n      <td>NaN</td>\n      <td>NaN</td>\n      <td>NaN</td>\n      <td>...</td>\n      <td>NaN</td>\n      <td>NaN</td>\n      <td>NaN</td>\n      <td>NaN</td>\n      <td>NaN</td>\n      <td>NaN</td>\n      <td>NaN</td>\n      <td>NaN</td>\n      <td>NaN</td>\n      <td>a</td>\n    </tr>\n    <tr>\n      <th>24</th>\n      <td>NaN</td>\n      <td>NaN</td>\n      <td>NaN</td>\n      <td>NaN</td>\n      <td>Profit_Loss</td>\n      <td>Output</td>\n      <td>Output_ow_Origination_Profit_Loss</td>\n      <td>NaN</td>\n      <td>NaN</td>\n      <td>NaN</td>\n      <td>...</td>\n      <td>NaN</td>\n      <td>NaN</td>\n      <td>NaN</td>\n      <td>NaN</td>\n      <td>NaN</td>\n      <td>NaN</td>\n      <td>NaN</td>\n      <td>NaN</td>\n      <td>NaN</td>\n      <td>a</td>\n    </tr>\n    <tr>\n      <th>25</th>\n      <td>NaN</td>\n      <td>NaN</td>\n      <td>NaN</td>\n      <td>NaN</td>\n      <td>Profit_Loss</td>\n      <td>Output</td>\n      <td>Output_Platform_Profit_Loss</td>\n      <td>NaN</td>\n      <td>NaN</td>\n      <td>NaN</td>\n      <td>...</td>\n      <td>NaN</td>\n      <td>NaN</td>\n      <td>NaN</td>\n      <td>NaN</td>\n      <td>NaN</td>\n      <td>NaN</td>\n      <td>NaN</td>\n      <td>NaN</td>\n      <td>NaN</td>\n      <td>a</td>\n    </tr>\n    <tr>\n      <th>26</th>\n      <td>NaN</td>\n      <td>NaN</td>\n      <td>NaN</td>\n      <td>NaN</td>\n      <td>Profit_Loss</td>\n      <td>Output</td>\n      <td>Output_ow_Underwriting_engine_Profit_Loss</td>\n      <td>NaN</td>\n      <td>NaN</td>\n      <td>NaN</td>\n      <td>...</td>\n      <td>NaN</td>\n      <td>NaN</td>\n      <td>NaN</td>\n      <td>NaN</td>\n      <td>NaN</td>\n      <td>NaN</td>\n      <td>NaN</td>\n      <td>NaN</td>\n      <td>NaN</td>\n      <td>a</td>\n    </tr>\n    <tr>\n      <th>27</th>\n      <td>NaN</td>\n      <td>NaN</td>\n      <td>NaN</td>\n      <td>NaN</td>\n      <td>Profit_Loss</td>\n      <td>Output</td>\n      <td>Output_ow_Back_office_app_Profit_Loss</td>\n      <td>NaN</td>\n      <td>NaN</td>\n      <td>NaN</td>\n      <td>...</td>\n      <td>NaN</td>\n      <td>NaN</td>\n      <td>NaN</td>\n      <td>NaN</td>\n      <td>NaN</td>\n      <td>NaN</td>\n      <td>NaN</td>\n      <td>NaN</td>\n      <td>NaN</td>\n      <td>a</td>\n    </tr>\n    <tr>\n      <th>28</th>\n      <td>NaN</td>\n      <td>NaN</td>\n      <td>NaN</td>\n      <td>NaN</td>\n      <td>Profit_Loss</td>\n      <td>Output</td>\n      <td>Output_Costs_Profit_Loss</td>\n      <td>NaN</td>\n      <td>NaN</td>\n      <td>NaN</td>\n      <td>...</td>\n      <td>NaN</td>\n      <td>NaN</td>\n      <td>NaN</td>\n      <td>NaN</td>\n      <td>NaN</td>\n      <td>NaN</td>\n      <td>NaN</td>\n      <td>NaN</td>\n      <td>NaN</td>\n      <td>a</td>\n    </tr>\n    <tr>\n      <th>29</th>\n      <td>NaN</td>\n      <td>NaN</td>\n      <td>NaN</td>\n      <td>NaN</td>\n      <td>Profit_Loss</td>\n      <td>Output</td>\n      <td>Output_ow_Loss_Profit_Loss</td>\n      <td>NaN</td>\n      <td>NaN</td>\n      <td>NaN</td>\n      <td>...</td>\n      <td>NaN</td>\n      <td>NaN</td>\n      <td>NaN</td>\n      <td>NaN</td>\n      <td>NaN</td>\n      <td>NaN</td>\n      <td>NaN</td>\n      <td>NaN</td>\n      <td>NaN</td>\n      <td>a</td>\n    </tr>\n    <tr>\n      <th>30</th>\n      <td>NaN</td>\n      <td>NaN</td>\n      <td>NaN</td>\n      <td>NaN</td>\n      <td>Profit_Loss</td>\n      <td>Output</td>\n      <td>Output_ow_Distribution_channel_Profit_Loss</td>\n      <td>NaN</td>\n      <td>NaN</td>\n      <td>NaN</td>\n      <td>...</td>\n      <td>NaN</td>\n      <td>NaN</td>\n      <td>NaN</td>\n      <td>NaN</td>\n      <td>NaN</td>\n      <td>NaN</td>\n      <td>NaN</td>\n      <td>NaN</td>\n      <td>NaN</td>\n      <td>a</td>\n    </tr>\n    <tr>\n      <th>31</th>\n      <td>NaN</td>\n      <td>NaN</td>\n      <td>NaN</td>\n      <td>NaN</td>\n      <td>Profit_Loss</td>\n      <td>Output</td>\n      <td>Output_ow_expenses_Profit_Loss</td>\n      <td>NaN</td>\n      <td>NaN</td>\n      <td>NaN</td>\n      <td>...</td>\n      <td>NaN</td>\n      <td>NaN</td>\n      <td>NaN</td>\n      <td>NaN</td>\n      <td>NaN</td>\n      <td>NaN</td>\n      <td>NaN</td>\n      <td>NaN</td>\n      <td>NaN</td>\n      <td>a</td>\n    </tr>\n    <tr>\n      <th>32</th>\n      <td>NaN</td>\n      <td>NaN</td>\n      <td>NaN</td>\n      <td>NaN</td>\n      <td>Profit_Loss</td>\n      <td>Output</td>\n      <td>Output_ow_outsourcing_Profit_Loss</td>\n      <td>NaN</td>\n      <td>NaN</td>\n      <td>NaN</td>\n      <td>...</td>\n      <td>NaN</td>\n      <td>NaN</td>\n      <td>NaN</td>\n      <td>NaN</td>\n      <td>NaN</td>\n      <td>NaN</td>\n      <td>NaN</td>\n      <td>NaN</td>\n      <td>NaN</td>\n      <td>a</td>\n    </tr>\n    <tr>\n      <th>33</th>\n      <td>NaN</td>\n      <td>NaN</td>\n      <td>NaN</td>\n      <td>NaN</td>\n      <td>Profit_Loss</td>\n      <td>Output</td>\n      <td>Output_Net_income_Profit_Loss</td>\n      <td>NaN</td>\n      <td>NaN</td>\n      <td>NaN</td>\n      <td>...</td>\n      <td>NaN</td>\n      <td>NaN</td>\n      <td>NaN</td>\n      <td>NaN</td>\n      <td>NaN</td>\n      <td>NaN</td>\n      <td>NaN</td>\n      <td>NaN</td>\n      <td>NaN</td>\n      <td>a</td>\n    </tr>\n    <tr>\n      <th>34</th>\n      <td>NaN</td>\n      <td>NaN</td>\n      <td>NaN</td>\n      <td>NaN</td>\n      <td>Profit_Loss</td>\n      <td>Output</td>\n      <td>Output_Taxes_Profit_Loss</td>\n      <td>NaN</td>\n      <td>NaN</td>\n      <td>NaN</td>\n      <td>...</td>\n      <td>NaN</td>\n      <td>NaN</td>\n      <td>NaN</td>\n      <td>NaN</td>\n      <td>NaN</td>\n      <td>NaN</td>\n      <td>NaN</td>\n      <td>NaN</td>\n      <td>NaN</td>\n      <td>a</td>\n    </tr>\n    <tr>\n      <th>35</th>\n      <td>NaN</td>\n      <td>NaN</td>\n      <td>NaN</td>\n      <td>NaN</td>\n      <td>Profit_Loss</td>\n      <td>Output</td>\n      <td>Output_NOPAT_Profit_Loss</td>\n      <td>NaN</td>\n      <td>NaN</td>\n      <td>NaN</td>\n      <td>...</td>\n      <td>NaN</td>\n      <td>NaN</td>\n      <td>NaN</td>\n      <td>NaN</td>\n      <td>NaN</td>\n      <td>NaN</td>\n      <td>NaN</td>\n      <td>NaN</td>\n      <td>NaN</td>\n      <td>a</td>\n    </tr>\n    <tr>\n      <th>36</th>\n      <td>NaN</td>\n      <td>NaN</td>\n      <td>NaN</td>\n      <td>NaN</td>\n      <td>Profit_Loss</td>\n      <td>Output</td>\n      <td>Output_Accumulated_Profit_Loss</td>\n      <td>NaN</td>\n      <td>NaN</td>\n      <td>NaN</td>\n      <td>...</td>\n      <td>NaN</td>\n      <td>NaN</td>\n      <td>NaN</td>\n      <td>NaN</td>\n      <td>NaN</td>\n      <td>NaN</td>\n      <td>NaN</td>\n      <td>NaN</td>\n      <td>NaN</td>\n      <td>a</td>\n    </tr>\n    <tr>\n      <th>37</th>\n      <td>NaN</td>\n      <td>NaN</td>\n      <td>NaN</td>\n      <td>NaN</td>\n      <td>Profit_Loss_Carrier</td>\n      <td>Output</td>\n      <td>Output_Loss_Profit_Loss_Carrier</td>\n      <td>NaN</td>\n      <td>NaN</td>\n      <td>NaN</td>\n      <td>...</td>\n      <td>NaN</td>\n      <td>NaN</td>\n      <td>NaN</td>\n      <td>NaN</td>\n      <td>NaN</td>\n      <td>NaN</td>\n      <td>NaN</td>\n      <td>NaN</td>\n      <td>NaN</td>\n      <td>a</td>\n    </tr>\n    <tr>\n      <th>38</th>\n      <td>NaN</td>\n      <td>NaN</td>\n      <td>NaN</td>\n      <td>NaN</td>\n      <td>Cash_flow</td>\n      <td>Output</td>\n      <td>Output_Transacted_premium_volume_Cash_flow</td>\n      <td>NaN</td>\n      <td>NaN</td>\n      <td>NaN</td>\n      <td>...</td>\n      <td>NaN</td>\n      <td>NaN</td>\n      <td>NaN</td>\n      <td>NaN</td>\n      <td>NaN</td>\n      <td>NaN</td>\n      <td>NaN</td>\n      <td>NaN</td>\n      <td>NaN</td>\n      <td>a</td>\n    </tr>\n    <tr>\n      <th>39</th>\n      <td>NaN</td>\n      <td>NaN</td>\n      <td>NaN</td>\n      <td>NaN</td>\n      <td>Cash_flow</td>\n      <td>Output</td>\n      <td>Output_Revenue_Cash_flow</td>\n      <td>NaN</td>\n      <td>NaN</td>\n      <td>NaN</td>\n      <td>...</td>\n      <td>NaN</td>\n      <td>NaN</td>\n      <td>NaN</td>\n      <td>NaN</td>\n      <td>NaN</td>\n      <td>NaN</td>\n      <td>NaN</td>\n      <td>NaN</td>\n      <td>NaN</td>\n      <td>a</td>\n    </tr>\n    <tr>\n      <th>40</th>\n      <td>NaN</td>\n      <td>NaN</td>\n      <td>NaN</td>\n      <td>NaN</td>\n      <td>Cash_flow</td>\n      <td>Output</td>\n      <td>Output_Network_Cash_flow</td>\n      <td>NaN</td>\n      <td>NaN</td>\n      <td>NaN</td>\n      <td>...</td>\n      <td>NaN</td>\n      <td>NaN</td>\n      <td>NaN</td>\n      <td>NaN</td>\n      <td>NaN</td>\n      <td>NaN</td>\n      <td>NaN</td>\n      <td>NaN</td>\n      <td>NaN</td>\n      <td>a</td>\n    </tr>\n    <tr>\n      <th>41</th>\n      <td>NaN</td>\n      <td>NaN</td>\n      <td>NaN</td>\n      <td>NaN</td>\n      <td>Cash_flow</td>\n      <td>Output</td>\n      <td>Output_ow_Origination_Cash_flow</td>\n      <td>NaN</td>\n      <td>NaN</td>\n      <td>NaN</td>\n      <td>...</td>\n      <td>NaN</td>\n      <td>NaN</td>\n      <td>NaN</td>\n      <td>NaN</td>\n      <td>NaN</td>\n      <td>NaN</td>\n      <td>NaN</td>\n      <td>NaN</td>\n      <td>NaN</td>\n      <td>a</td>\n    </tr>\n    <tr>\n      <th>42</th>\n      <td>NaN</td>\n      <td>NaN</td>\n      <td>NaN</td>\n      <td>NaN</td>\n      <td>Cash_flow</td>\n      <td>Output</td>\n      <td>Output_Platform_Cash_flow</td>\n      <td>NaN</td>\n      <td>NaN</td>\n      <td>NaN</td>\n      <td>...</td>\n      <td>NaN</td>\n      <td>NaN</td>\n      <td>NaN</td>\n      <td>NaN</td>\n      <td>NaN</td>\n      <td>NaN</td>\n      <td>NaN</td>\n      <td>NaN</td>\n      <td>NaN</td>\n      <td>a</td>\n    </tr>\n    <tr>\n      <th>43</th>\n      <td>NaN</td>\n      <td>NaN</td>\n      <td>NaN</td>\n      <td>NaN</td>\n      <td>Cash_flow</td>\n      <td>Output</td>\n      <td>Output_ow_Underwriting_engine_Cash_flow</td>\n      <td>NaN</td>\n      <td>NaN</td>\n      <td>NaN</td>\n      <td>...</td>\n      <td>NaN</td>\n      <td>NaN</td>\n      <td>NaN</td>\n      <td>NaN</td>\n      <td>NaN</td>\n      <td>NaN</td>\n      <td>NaN</td>\n      <td>NaN</td>\n      <td>NaN</td>\n      <td>a</td>\n    </tr>\n    <tr>\n      <th>44</th>\n      <td>NaN</td>\n      <td>NaN</td>\n      <td>NaN</td>\n      <td>NaN</td>\n      <td>Cash_flow</td>\n      <td>Output</td>\n      <td>Output_ow_Back_office_app_Cash_flow</td>\n      <td>NaN</td>\n      <td>NaN</td>\n      <td>NaN</td>\n      <td>...</td>\n      <td>NaN</td>\n      <td>NaN</td>\n      <td>NaN</td>\n      <td>NaN</td>\n      <td>NaN</td>\n      <td>NaN</td>\n      <td>NaN</td>\n      <td>NaN</td>\n      <td>NaN</td>\n      <td>a</td>\n    </tr>\n    <tr>\n      <th>45</th>\n      <td>NaN</td>\n      <td>NaN</td>\n      <td>NaN</td>\n      <td>NaN</td>\n      <td>Cash_flow</td>\n      <td>Output</td>\n      <td>Output_Costs_Cash_flow</td>\n      <td>NaN</td>\n      <td>NaN</td>\n      <td>NaN</td>\n      <td>...</td>\n      <td>NaN</td>\n      <td>NaN</td>\n      <td>NaN</td>\n      <td>NaN</td>\n      <td>NaN</td>\n      <td>NaN</td>\n      <td>NaN</td>\n      <td>NaN</td>\n      <td>NaN</td>\n      <td>a</td>\n    </tr>\n    <tr>\n      <th>46</th>\n      <td>NaN</td>\n      <td>NaN</td>\n      <td>NaN</td>\n      <td>NaN</td>\n      <td>Cash_flow</td>\n      <td>Output</td>\n      <td>Output_ow_Loss_Cash_flow</td>\n      <td>NaN</td>\n      <td>NaN</td>\n      <td>NaN</td>\n      <td>...</td>\n      <td>NaN</td>\n      <td>NaN</td>\n      <td>NaN</td>\n      <td>NaN</td>\n      <td>NaN</td>\n      <td>NaN</td>\n      <td>NaN</td>\n      <td>NaN</td>\n      <td>NaN</td>\n      <td>a</td>\n    </tr>\n    <tr>\n      <th>47</th>\n      <td>NaN</td>\n      <td>NaN</td>\n      <td>NaN</td>\n      <td>NaN</td>\n      <td>Cash_flow</td>\n      <td>Output</td>\n      <td>Output_ow_Distribution_channel_Cash_flow</td>\n      <td>NaN</td>\n      <td>NaN</td>\n      <td>NaN</td>\n      <td>...</td>\n      <td>NaN</td>\n      <td>NaN</td>\n      <td>NaN</td>\n      <td>NaN</td>\n      <td>NaN</td>\n      <td>NaN</td>\n      <td>NaN</td>\n      <td>NaN</td>\n      <td>NaN</td>\n      <td>a</td>\n    </tr>\n    <tr>\n      <th>48</th>\n      <td>NaN</td>\n      <td>NaN</td>\n      <td>NaN</td>\n      <td>NaN</td>\n      <td>Cash_flow</td>\n      <td>Output</td>\n      <td>Output_ow_expenses_Cash_flow</td>\n      <td>NaN</td>\n      <td>NaN</td>\n      <td>NaN</td>\n      <td>...</td>\n      <td>NaN</td>\n      <td>NaN</td>\n      <td>NaN</td>\n      <td>NaN</td>\n      <td>NaN</td>\n      <td>NaN</td>\n      <td>NaN</td>\n      <td>NaN</td>\n      <td>NaN</td>\n      <td>a</td>\n    </tr>\n    <tr>\n      <th>49</th>\n      <td>NaN</td>\n      <td>NaN</td>\n      <td>NaN</td>\n      <td>NaN</td>\n      <td>Cash_flow</td>\n      <td>Output</td>\n      <td>Output_ow_outsourcing_Cash_flow</td>\n      <td>NaN</td>\n      <td>NaN</td>\n      <td>NaN</td>\n      <td>...</td>\n      <td>NaN</td>\n      <td>NaN</td>\n      <td>NaN</td>\n      <td>NaN</td>\n      <td>NaN</td>\n      <td>NaN</td>\n      <td>NaN</td>\n      <td>NaN</td>\n      <td>NaN</td>\n      <td>a</td>\n    </tr>\n    <tr>\n      <th>50</th>\n      <td>NaN</td>\n      <td>NaN</td>\n      <td>NaN</td>\n      <td>NaN</td>\n      <td>Cash_flow</td>\n      <td>Output</td>\n      <td>Output_Net_income_Cash_flow</td>\n      <td>NaN</td>\n      <td>NaN</td>\n      <td>NaN</td>\n      <td>...</td>\n      <td>NaN</td>\n      <td>NaN</td>\n      <td>NaN</td>\n      <td>NaN</td>\n      <td>NaN</td>\n      <td>NaN</td>\n      <td>NaN</td>\n      <td>NaN</td>\n      <td>NaN</td>\n      <td>a</td>\n    </tr>\n    <tr>\n      <th>51</th>\n      <td>NaN</td>\n      <td>NaN</td>\n      <td>NaN</td>\n      <td>NaN</td>\n      <td>Cash_flow</td>\n      <td>Output</td>\n      <td>Output_Taxes_Cash_flow</td>\n      <td>NaN</td>\n      <td>NaN</td>\n      <td>NaN</td>\n      <td>...</td>\n      <td>NaN</td>\n      <td>NaN</td>\n      <td>NaN</td>\n      <td>NaN</td>\n      <td>NaN</td>\n      <td>NaN</td>\n      <td>NaN</td>\n      <td>NaN</td>\n      <td>NaN</td>\n      <td>a</td>\n    </tr>\n    <tr>\n      <th>52</th>\n      <td>NaN</td>\n      <td>NaN</td>\n      <td>NaN</td>\n      <td>NaN</td>\n      <td>Cash_flow</td>\n      <td>Output</td>\n      <td>Output_NOPAT_Cash_flow</td>\n      <td>NaN</td>\n      <td>NaN</td>\n      <td>NaN</td>\n      <td>...</td>\n      <td>NaN</td>\n      <td>NaN</td>\n      <td>NaN</td>\n      <td>NaN</td>\n      <td>NaN</td>\n      <td>NaN</td>\n      <td>NaN</td>\n      <td>NaN</td>\n      <td>NaN</td>\n      <td>a</td>\n    </tr>\n    <tr>\n      <th>53</th>\n      <td>NaN</td>\n      <td>NaN</td>\n      <td>NaN</td>\n      <td>NaN</td>\n      <td>Cash_flow</td>\n      <td>Output</td>\n      <td>Output_Working_capital_Cash_flow</td>\n      <td>NaN</td>\n      <td>NaN</td>\n      <td>NaN</td>\n      <td>...</td>\n      <td>NaN</td>\n      <td>NaN</td>\n      <td>NaN</td>\n      <td>NaN</td>\n      <td>NaN</td>\n      <td>NaN</td>\n      <td>NaN</td>\n      <td>NaN</td>\n      <td>NaN</td>\n      <td>a</td>\n    </tr>\n    <tr>\n      <th>54</th>\n      <td>NaN</td>\n      <td>NaN</td>\n      <td>NaN</td>\n      <td>NaN</td>\n      <td>Cash_flow</td>\n      <td>Output</td>\n      <td>Output_ow_Loss_Cash_flow</td>\n      <td>NaN</td>\n      <td>NaN</td>\n      <td>NaN</td>\n      <td>...</td>\n      <td>NaN</td>\n      <td>NaN</td>\n      <td>NaN</td>\n      <td>NaN</td>\n      <td>NaN</td>\n      <td>NaN</td>\n      <td>NaN</td>\n      <td>NaN</td>\n      <td>NaN</td>\n      <td>a</td>\n    </tr>\n    <tr>\n      <th>55</th>\n      <td>NaN</td>\n      <td>NaN</td>\n      <td>NaN</td>\n      <td>NaN</td>\n      <td>Cash_flow</td>\n      <td>Output</td>\n      <td>Output_ow_Distribution_channel_Cash_flow</td>\n      <td>NaN</td>\n      <td>NaN</td>\n      <td>NaN</td>\n      <td>...</td>\n      <td>NaN</td>\n      <td>NaN</td>\n      <td>NaN</td>\n      <td>NaN</td>\n      <td>NaN</td>\n      <td>NaN</td>\n      <td>NaN</td>\n      <td>NaN</td>\n      <td>NaN</td>\n      <td>a</td>\n    </tr>\n    <tr>\n      <th>56</th>\n      <td>NaN</td>\n      <td>NaN</td>\n      <td>NaN</td>\n      <td>NaN</td>\n      <td>Cash_flow</td>\n      <td>Output</td>\n      <td>Output_ow_expenses_Cash_flow</td>\n      <td>NaN</td>\n      <td>NaN</td>\n      <td>NaN</td>\n      <td>...</td>\n      <td>NaN</td>\n      <td>NaN</td>\n      <td>NaN</td>\n      <td>NaN</td>\n      <td>NaN</td>\n      <td>NaN</td>\n      <td>NaN</td>\n      <td>NaN</td>\n      <td>NaN</td>\n      <td>a</td>\n    </tr>\n    <tr>\n      <th>57</th>\n      <td>NaN</td>\n      <td>NaN</td>\n      <td>NaN</td>\n      <td>NaN</td>\n      <td>Cash_flow</td>\n      <td>Output</td>\n      <td>Output_Operating_cash_flow_Cash_flow</td>\n      <td>NaN</td>\n      <td>NaN</td>\n      <td>NaN</td>\n      <td>...</td>\n      <td>NaN</td>\n      <td>NaN</td>\n      <td>NaN</td>\n      <td>NaN</td>\n      <td>NaN</td>\n      <td>NaN</td>\n      <td>NaN</td>\n      <td>NaN</td>\n      <td>NaN</td>\n      <td>a</td>\n    </tr>\n    <tr>\n      <th>58</th>\n      <td>NaN</td>\n      <td>NaN</td>\n      <td>NaN</td>\n      <td>NaN</td>\n      <td>Cash_flow</td>\n      <td>Output</td>\n      <td>Output_Accumulated_Cash_flow</td>\n      <td>NaN</td>\n      <td>NaN</td>\n      <td>NaN</td>\n      <td>...</td>\n      <td>NaN</td>\n      <td>NaN</td>\n      <td>NaN</td>\n      <td>NaN</td>\n      <td>NaN</td>\n      <td>NaN</td>\n      <td>NaN</td>\n      <td>NaN</td>\n      <td>NaN</td>\n      <td>a</td>\n    </tr>\n    <tr>\n      <th>59</th>\n      <td>NaN</td>\n      <td>NaN</td>\n      <td>NaN</td>\n      <td>NaN</td>\n      <td>Cash_flow</td>\n      <td>Output</td>\n      <td>Output_ROIC_Cash_flow</td>\n      <td>NaN</td>\n      <td>NaN</td>\n      <td>NaN</td>\n      <td>...</td>\n      <td>NaN</td>\n      <td>NaN</td>\n      <td>NaN</td>\n      <td>NaN</td>\n      <td>NaN</td>\n      <td>NaN</td>\n      <td>NaN</td>\n      <td>NaN</td>\n      <td>NaN</td>\n      <td>a</td>\n    </tr>\n  </tbody>\n</table>\n<p>60 rows × 141 columns</p>\n</div>"
     },
     "execution_count": 109,
     "metadata": {},
     "output_type": "execute_result"
    }
   ],
   "source": [
    "df = pd.read_excel(config.data_path, sheet_name='Cohort G1', skiprows=1)\n",
    "df['Parameter'] = df['Input/Output'] + '_' + df['Parameter'] + '_' + df['Category']\n",
    "df"
   ],
   "metadata": {
    "collapsed": false,
    "pycharm": {
     "name": "#%%\n"
    }
   }
  },
  {
   "cell_type": "code",
   "execution_count": 87,
   "outputs": [
    {
     "name": "stderr",
     "output_type": "stream",
     "text": [
      "[autoreload of Function failed: Traceback (most recent call last):\n",
      "  File \"/Users/cosmicthermo/miniconda3/envs/pytorchenv/lib/python3.8/site-packages/IPython/extensions/autoreload.py\", line 257, in check\n",
      "    superreload(m, reload, self.old_objects)\n",
      "  File \"/Users/cosmicthermo/miniconda3/envs/pytorchenv/lib/python3.8/site-packages/IPython/extensions/autoreload.py\", line 455, in superreload\n",
      "    module = reload(module)\n",
      "  File \"/Users/cosmicthermo/miniconda3/envs/pytorchenv/lib/python3.8/importlib/__init__.py\", line 169, in reload\n",
      "    _bootstrap._exec(spec, module)\n",
      "  File \"<frozen importlib._bootstrap>\", line 604, in _exec\n",
      "  File \"<frozen importlib._bootstrap_external>\", line 839, in exec_module\n",
      "  File \"<frozen importlib._bootstrap_external>\", line 976, in get_code\n",
      "  File \"<frozen importlib._bootstrap_external>\", line 906, in source_to_code\n",
      "  File \"<frozen importlib._bootstrap>\", line 219, in _call_with_frames_removed\n",
      "  File \"/Users/cosmicthermo/Desktop/Afairi-Work/Github/Simulation_UW/Function.py\", line 110\n",
      "    current_row['Start_premium_Input_var'] =\n",
      "                                           ^\n",
      "SyntaxError: invalid syntax\n",
      "]\n"
     ]
    },
    {
     "data": {
      "text/plain": "Parameter  Month_Input_var  Start_month_Input_var  Start_premium_Input_var  \\\n1                      0.0                    0.0                      1.0   \n\nParameter  Retention_Input_var  Inflation_Input_var  \\\n1                          NaN                 1.03   \n\nParameter  Revenue_share_of_premium_for_new_business_Input_var  \\\n1                                                        0.4     \n\nParameter  Revenue_share_of_premium_for_renewal_Input_var  \\\n1                                                    0.05   \n\nParameter  Underwriting_Relative_to_premium_based_on_improvement_first_yr_Input_var  \\\n1                                                   0.019305                          \n\nParameter  Backoffice_Relative_to_premium_based_on_improvement_first_year_Input_var  \\\n1                                                       0.01                          \n\nParameter  Distribution_channel_cost_as_share_of_premium_first_year_Input_var  \\\n1                                                        0.2                    \n\nParameter  ...  Working_capital_Output_Cash_flow  ow_Loss_Output_Cash_flow  \\\n1          ...                               NaN                       NaN   \n\nParameter  ow_Loss_Output_Cash_flow  ow_Distribution_channel_Output_Cash_flow  \\\n1                               NaN                                       NaN   \n\nParameter  ow_Distribution_channel_Output_Cash_flow  \\\n1                                               NaN   \n\nParameter  ow_expenses_Output_Cash_flow  ow_expenses_Output_Cash_flow  \\\n1                                   NaN                           NaN   \n\nParameter  Operating_cash_flow_Output_Cash_flow  Accumulated_Output_Cash_flow  \\\n1                                           NaN                           NaN   \n\nParameter  ROIC_Output_Cash_flow  \n1                            NaN  \n\n[1 rows x 66 columns]",
      "text/html": "<div>\n<style scoped>\n    .dataframe tbody tr th:only-of-type {\n        vertical-align: middle;\n    }\n\n    .dataframe tbody tr th {\n        vertical-align: top;\n    }\n\n    .dataframe thead th {\n        text-align: right;\n    }\n</style>\n<table border=\"1\" class=\"dataframe\">\n  <thead>\n    <tr style=\"text-align: right;\">\n      <th>Parameter</th>\n      <th>Month_Input_var</th>\n      <th>Start_month_Input_var</th>\n      <th>Start_premium_Input_var</th>\n      <th>Retention_Input_var</th>\n      <th>Inflation_Input_var</th>\n      <th>Revenue_share_of_premium_for_new_business_Input_var</th>\n      <th>Revenue_share_of_premium_for_renewal_Input_var</th>\n      <th>Underwriting_Relative_to_premium_based_on_improvement_first_yr_Input_var</th>\n      <th>Backoffice_Relative_to_premium_based_on_improvement_first_year_Input_var</th>\n      <th>Distribution_channel_cost_as_share_of_premium_first_year_Input_var</th>\n      <th>...</th>\n      <th>Working_capital_Output_Cash_flow</th>\n      <th>ow_Loss_Output_Cash_flow</th>\n      <th>ow_Loss_Output_Cash_flow</th>\n      <th>ow_Distribution_channel_Output_Cash_flow</th>\n      <th>ow_Distribution_channel_Output_Cash_flow</th>\n      <th>ow_expenses_Output_Cash_flow</th>\n      <th>ow_expenses_Output_Cash_flow</th>\n      <th>Operating_cash_flow_Output_Cash_flow</th>\n      <th>Accumulated_Output_Cash_flow</th>\n      <th>ROIC_Output_Cash_flow</th>\n    </tr>\n  </thead>\n  <tbody>\n    <tr>\n      <th>1</th>\n      <td>0.0</td>\n      <td>0.0</td>\n      <td>1.0</td>\n      <td>NaN</td>\n      <td>1.03</td>\n      <td>0.4</td>\n      <td>0.05</td>\n      <td>0.019305</td>\n      <td>0.01</td>\n      <td>0.2</td>\n      <td>...</td>\n      <td>NaN</td>\n      <td>NaN</td>\n      <td>NaN</td>\n      <td>NaN</td>\n      <td>NaN</td>\n      <td>NaN</td>\n      <td>NaN</td>\n      <td>NaN</td>\n      <td>NaN</td>\n      <td>NaN</td>\n    </tr>\n  </tbody>\n</table>\n<p>1 rows × 66 columns</p>\n</div>"
     },
     "execution_count": 87,
     "metadata": {},
     "output_type": "execute_result"
    }
   ],
   "source": [
    "insert_df = pd.DataFrame(index=range(-12, 1, 1), columns=data_input.columns)\n",
    "one_df = pd.DataFrame(index=[1], columns=data_input.columns)\n",
    "new_df = one_df + pd.DataFrame()\n",
    "new_df\n",
    "data_input['Start_premium_Input_var'] = data_input['Start_premium_Input_var']/12\n",
    "data_input"
   ],
   "metadata": {
    "collapsed": false,
    "pycharm": {
     "name": "#%%\n"
    }
   }
  },
  {
   "cell_type": "code",
   "execution_count": 47,
   "outputs": [
    {
     "name": "stderr",
     "output_type": "stream",
     "text": [
      "[autoreload of Function failed: Traceback (most recent call last):\n",
      "  File \"/Users/cosmicthermo/miniconda3/envs/pytorchenv/lib/python3.8/site-packages/IPython/extensions/autoreload.py\", line 257, in check\n",
      "    superreload(m, reload, self.old_objects)\n",
      "  File \"/Users/cosmicthermo/miniconda3/envs/pytorchenv/lib/python3.8/site-packages/IPython/extensions/autoreload.py\", line 455, in superreload\n",
      "    module = reload(module)\n",
      "  File \"/Users/cosmicthermo/miniconda3/envs/pytorchenv/lib/python3.8/importlib/__init__.py\", line 169, in reload\n",
      "    _bootstrap._exec(spec, module)\n",
      "  File \"<frozen importlib._bootstrap>\", line 604, in _exec\n",
      "  File \"<frozen importlib._bootstrap_external>\", line 839, in exec_module\n",
      "  File \"<frozen importlib._bootstrap_external>\", line 976, in get_code\n",
      "  File \"<frozen importlib._bootstrap_external>\", line 906, in source_to_code\n",
      "  File \"<frozen importlib._bootstrap>\", line 219, in _call_with_frames_removed\n",
      "  File \"/Users/cosmicthermo/Desktop/Afairi-Work/Github/Simulation_UW/Function.py\", line 110\n",
      "    def init_starting_month(self):\n",
      "    ^\n",
      "IndentationError: expected an indented block\n",
      "]\n"
     ]
    },
    {
     "data": {
      "text/plain": "30"
     },
     "execution_count": 47,
     "metadata": {},
     "output_type": "execute_result"
    }
   ],
   "source": [
    "lt_1 = ['G1', 'G2']\n",
    "lt2 = [30, 88]\n",
    "dt = dict(zip(lt_1, lt2))\n",
    "dt['G1']"
   ],
   "metadata": {
    "collapsed": false,
    "pycharm": {
     "name": "#%%\n"
    }
   }
  },
  {
   "cell_type": "code",
   "execution_count": 140,
   "outputs": [
    {
     "name": "stdout",
     "output_type": "stream",
     "text": [
      "0\n"
     ]
    }
   ],
   "source": [
    "for i in range(1):\n",
    "    print(i)"
   ],
   "metadata": {
    "collapsed": false,
    "pycharm": {
     "name": "#%%\n"
    }
   }
  },
  {
   "cell_type": "code",
   "execution_count": 143,
   "outputs": [
    {
     "data": {
      "text/plain": "[0.8,\n 0.95,\n 0.76,\n 0.722,\n 0.54872,\n 0.39617584,\n 0.2173896069248,\n 0.08612451013070245]"
     },
     "execution_count": 143,
     "metadata": {},
     "output_type": "execute_result"
    }
   ],
   "source": [
    "a = [0.8, 0.95]\n",
    "for _ in range(6):\n",
    "    a.append(a[-1]*a[-2])\n",
    "a"
   ],
   "metadata": {
    "collapsed": false,
    "pycharm": {
     "name": "#%%\n"
    }
   }
  },
  {
   "cell_type": "code",
   "execution_count": 166,
   "outputs": [
    {
     "name": "stdout",
     "output_type": "stream",
     "text": [
      "Parameter  Month_Input_var  Start_month_Input_var  Start_premium_Input_var  \\\n",
      "Value                  0.0                    0.0                   1200.0   \n",
      "\n",
      "Parameter  Retention_Input_var  Inflation_Input_var  \\\n",
      "Value                      NaN                 1.03   \n",
      "\n",
      "Parameter  Revenue_share_of_premium_for_new_business_Input_var  \\\n",
      "Value                                                    0.4     \n",
      "\n",
      "Parameter  Revenue_share_of_premium_for_renewal_Input_var  \\\n",
      "Value                                                0.05   \n",
      "\n",
      "Parameter  Underwriting_Relative_to_premium_based_on_improvement_first_yr_Input_var  \\\n",
      "Value                                               0.019305                          \n",
      "\n",
      "Parameter  Backoffice_Relative_to_premium_based_on_improvement_first_year_Input_var  \\\n",
      "Value                                                   0.01                          \n",
      "\n",
      "Parameter  Distribution_channel_cost_as_share_of_premium_first_year_Input_var  \\\n",
      "Value                                                    0.2                    \n",
      "\n",
      "Parameter  ...  Net_income_Output_Cash_flow  Taxes_Output_Cash_flow  \\\n",
      "Value      ...                          NaN                     NaN   \n",
      "\n",
      "Parameter  NOPAT_Output_Cash_flow  Working_capital_ow_Loss_Output_Cash_flow  \\\n",
      "Value                         NaN                                       NaN   \n",
      "\n",
      "Parameter  Working_capital_ow_Distribution_channel_Output_Cash_flow  \\\n",
      "Value                                                    NaN          \n",
      "\n",
      "Parameter  Working_capital_ow_expenses_Output_Cash_flow  \\\n",
      "Value                                               NaN   \n",
      "\n",
      "Parameter  Working_capital_Output_Cash_flow  \\\n",
      "Value                                   NaN   \n",
      "\n",
      "Parameter  Operating_cash_flow_Output_Cash_flow  Accumulated_Output_Cash_flow  \\\n",
      "Value                                       NaN                           NaN   \n",
      "\n",
      "Parameter  ROIC_Output_Cash_flow  \n",
      "Value                        NaN  \n",
      "\n",
      "[1 rows x 60 columns]\n",
      "Parameter  Month_Input_var  Start_month_Input_var  Start_premium_Input_var  \\\n",
      "Value                  0.0                    0.0                    100.0   \n",
      "\n",
      "Parameter  Retention_Input_var  Inflation_Input_var  \\\n",
      "Value                      NaN                 1.03   \n",
      "\n",
      "Parameter  Revenue_share_of_premium_for_new_business_Input_var  \\\n",
      "Value                                                    0.4     \n",
      "\n",
      "Parameter  Revenue_share_of_premium_for_renewal_Input_var  \\\n",
      "Value                                                0.05   \n",
      "\n",
      "Parameter  Underwriting_Relative_to_premium_based_on_improvement_first_yr_Input_var  \\\n",
      "Value                                               0.019305                          \n",
      "\n",
      "Parameter  Backoffice_Relative_to_premium_based_on_improvement_first_year_Input_var  \\\n",
      "Value                                                   0.01                          \n",
      "\n",
      "Parameter  Distribution_channel_cost_as_share_of_premium_first_year_Input_var  \\\n",
      "Value                                                    0.2                    \n",
      "\n",
      "Parameter  ...  Net_income_Output_Cash_flow  Taxes_Output_Cash_flow  \\\n",
      "Value      ...                          NaN                     NaN   \n",
      "\n",
      "Parameter  NOPAT_Output_Cash_flow  Working_capital_ow_Loss_Output_Cash_flow  \\\n",
      "Value                         NaN                                       NaN   \n",
      "\n",
      "Parameter  Working_capital_ow_Distribution_channel_Output_Cash_flow  \\\n",
      "Value                                                    NaN          \n",
      "\n",
      "Parameter  Working_capital_ow_expenses_Output_Cash_flow  \\\n",
      "Value                                               NaN   \n",
      "\n",
      "Parameter  Working_capital_Output_Cash_flow  \\\n",
      "Value                                   NaN   \n",
      "\n",
      "Parameter  Operating_cash_flow_Output_Cash_flow  Accumulated_Output_Cash_flow  \\\n",
      "Value                                       NaN                           NaN   \n",
      "\n",
      "Parameter  ROIC_Output_Cash_flow  \n",
      "Value                        NaN  \n",
      "\n",
      "[1 rows x 60 columns]\n",
      "39\n"
     ]
    },
    {
     "data": {
      "text/plain": "'Accumulated_Output_Cash_flow'"
     },
     "execution_count": 166,
     "metadata": {},
     "output_type": "execute_result"
    }
   ],
   "source": [
    "da_1 = CustomData(config.data_path, ['G1', 'G2'])\n",
    "lt = da_1.extract_data_from_list()\n",
    "data_input = lt[0]\n",
    "vars = da_1.give_outputs_variables()\n",
    "var_para = vars[1]\n",
    "print(len(vars[1]))\n",
    "var_para.pop(-1)\n",
    "var_para.pop(-1)"
   ],
   "metadata": {
    "collapsed": false,
    "pycharm": {
     "name": "#%%\n"
    }
   }
  },
  {
   "cell_type": "code",
   "execution_count": 167,
   "outputs": [
    {
     "data": {
      "text/plain": "37"
     },
     "execution_count": 167,
     "metadata": {},
     "output_type": "execute_result"
    }
   ],
   "source": [
    "var_para.__len__()"
   ],
   "metadata": {
    "collapsed": false,
    "pycharm": {
     "name": "#%%\n"
    }
   }
  },
  {
   "cell_type": "code",
   "execution_count": 155,
   "outputs": [
    {
     "data": {
      "text/plain": "['Transacted_premium_volume_Output_Profit_Loss',\n 'ow_Origination_Output_Profit_Loss',\n 'Network_Output_Profit_Loss',\n 'ow_Underwriting_engine_Output_Profit_Loss',\n 'ow_Back_office_app_Output_Profit_Loss',\n 'Platform_Output_Profit_Loss',\n 'ow_Loss_Output_Profit_Loss',\n 'ow_Distribution_channel_Output_Profit_Loss',\n 'ow_expenses_Output_Profit_Loss',\n 'ow_outsourcing_Output_Profit_Loss',\n 'Costs_Output_Profit_Loss',\n 'Revenue_Output_Profit_Loss',\n 'Net_income_Output_Profit_Loss',\n 'Taxes_Output_Profit_Loss',\n 'NOPAT_Output_Profit_Loss',\n 'Accumulated_Output_Profit_Loss',\n 'Loss_Output_Profit_Loss_Carrier',\n 'Transacted_premium_volume_Output_Cash_flow',\n 'ow_Origination_Output_Cash_flow',\n 'Network_Output_Cash_flow',\n 'ow_Underwriting_engine_Output_Cash_flow',\n 'ow_Back_office_app_Output_Cash_flow',\n 'Platform_Output_Cash_flow',\n 'ow_Loss_Output_Cash_flow',\n 'ow_Distribution_channel_Output_Cash_flow',\n 'ow_expenses_Output_Cash_flow',\n 'ow_outsourcing_Output_Cash_flow',\n 'Costs_Output_Cash_flow',\n 'Revenue_Output_Cash_flow',\n 'Net_income_Output_Cash_flow',\n 'Taxes_Output_Cash_flow',\n 'NOPAT_Output_Cash_flow',\n 'Working_capital_ow_Loss_Output_Cash_flow',\n 'Working_capital_ow_Distribution_channel_Output_Cash_flow',\n 'Working_capital_ow_expenses_Output_Cash_flow',\n 'Working_capital_Output_Cash_flow',\n 'Operating_cash_flow_Output_Cash_flow']"
     },
     "execution_count": 155,
     "metadata": {},
     "output_type": "execute_result"
    }
   ],
   "source": [
    "var_para"
   ],
   "metadata": {
    "collapsed": false,
    "pycharm": {
     "name": "#%%\n"
    }
   }
  },
  {
   "cell_type": "code",
   "execution_count": 165,
   "outputs": [
    {
     "data": {
      "text/plain": "Parameter\nTransacted_premium_volume_Output_Profit_Loss                100.0000\now_Origination_Output_Profit_Loss                            40.0000\nNetwork_Output_Profit_Loss                                   40.0000\now_Underwriting_engine_Output_Profit_Loss                     0.0000\now_Back_office_app_Output_Profit_Loss                         0.0000\nPlatform_Output_Profit_Loss                                   0.0000\now_Loss_Output_Profit_Loss                                    0.0000\now_Distribution_channel_Output_Profit_Loss                   20.0000\now_expenses_Output_Profit_Loss                                5.4000\now_outsourcing_Output_Profit_Loss                             0.0000\nCosts_Output_Profit_Loss                                     25.4000\nRevenue_Output_Profit_Loss                                   40.0000\nNet_income_Output_Profit_Loss                                14.6000\nTaxes_Output_Profit_Loss                                      4.3800\nNOPAT_Output_Profit_Loss                                     10.2200\nAccumulated_Output_Profit_Loss                               10.2200\nLoss_Output_Profit_Loss_Carrier                              70.0000\nTransacted_premium_volume_Output_Cash_flow                  100.0000\now_Origination_Output_Cash_flow                              40.0000\nNetwork_Output_Cash_flow                                     40.0000\now_Underwriting_engine_Output_Cash_flow                       0.0000\now_Back_office_app_Output_Cash_flow                           0.0000\nPlatform_Output_Cash_flow                                     0.0000\now_Loss_Output_Cash_flow                                      0.0000\now_Distribution_channel_Output_Cash_flow                     12.0000\now_expenses_Output_Cash_flow                                  3.2400\now_outsourcing_Output_Cash_flow                               0.0000\nCosts_Output_Cash_flow                                       15.2400\nRevenue_Output_Cash_flow                                     40.0000\nNet_income_Output_Cash_flow                                  24.7600\nTaxes_Output_Cash_flow                                        4.3800\nNOPAT_Output_Cash_flow                                       20.3800\nWorking_capital_ow_Loss_Output_Cash_flow                      0.0000\nWorking_capital_ow_Distribution_channel_Output_Cash_flow      0.0000\nWorking_capital_ow_expenses_Output_Cash_flow                  2.2248\nWorking_capital_Output_Cash_flow                              2.2248\nOperating_cash_flow_Output_Cash_flow                         18.1552\nName: 0, dtype: float64"
     },
     "execution_count": 165,
     "metadata": {},
     "output_type": "execute_result"
    }
   ],
   "source": [
    "truth = pd.read_excel(config.ground_truth_path, sheet_name='Sheet1', skiprows=1)\n",
    "truth.index = truth['Parameter']\n",
    "truth_label = truth.loc[var_para, 0]\n",
    "truth_label"
   ],
   "metadata": {
    "collapsed": false,
    "pycharm": {
     "name": "#%%\n"
    }
   }
  },
  {
   "cell_type": "code",
   "execution_count": 171,
   "outputs": [
    {
     "name": "stdout",
     "output_type": "stream",
     "text": [
      "A: 4711; B: 0815;\n"
     ]
    }
   ],
   "source": [
    "import copy\n",
    "class A:\n",
    "    def __init__(self):\n",
    "        self.x = 4711\n",
    "a = A()\n",
    "B = copy.deepcopy(a)\n",
    "setattr(B, \"x\", \"0815\")\n",
    "print(\"A: %s; B: %s;\" % (a.x, B.x))"
   ],
   "metadata": {
    "collapsed": false,
    "pycharm": {
     "name": "#%%\n"
    }
   }
  },
  {
   "cell_type": "code",
   "execution_count": null,
   "outputs": [],
   "source": [
    "input_data = ['G1', 'G1']\n",
    "start_month = [0, 2]\n",
    "simu_test = Simulation(config.data_path, input_data, start_month)"
   ],
   "metadata": {
    "collapsed": false,
    "pycharm": {
     "name": "#%%\n"
    }
   }
  },
  {
   "cell_type": "code",
   "execution_count": 204,
   "outputs": [
    {
     "data": {
      "text/plain": "[3, None]"
     },
     "execution_count": 204,
     "metadata": {},
     "output_type": "execute_result"
    }
   ],
   "source": [
    "test_1 = None\n",
    "test_list = [3]\n",
    "test_list.append(test_1)\n",
    "test_list"
   ],
   "metadata": {
    "collapsed": false,
    "pycharm": {
     "name": "#%%\n"
    }
   }
  },
  {
   "cell_type": "code",
   "execution_count": 207,
   "outputs": [
    {
     "data": {
      "text/plain": "str"
     },
     "execution_count": 207,
     "metadata": {},
     "output_type": "execute_result"
    }
   ],
   "source": [
    "my_dict = {0: \"XYZ\", 1: \"xyz@gmail.com\", 2:\"Mumbai\"}\n",
    "my_dict[3] = 'no'\n",
    "type(my_dict[0])"
   ],
   "metadata": {
    "collapsed": false,
    "pycharm": {
     "name": "#%%\n"
    }
   }
  },
  {
   "cell_type": "code",
   "execution_count": 208,
   "outputs": [],
   "source": [
    "for dt in my_dict:\n",
    "    my_dict[dt] = 'CHange'"
   ],
   "metadata": {
    "collapsed": false,
    "pycharm": {
     "name": "#%%\n"
    }
   }
  },
  {
   "cell_type": "code",
   "execution_count": 209,
   "outputs": [
    {
     "data": {
      "text/plain": "{0: 'CHange', 1: 'CHange', 2: 'CHange', 3: 'CHange'}"
     },
     "execution_count": 209,
     "metadata": {},
     "output_type": "execute_result"
    }
   ],
   "source": [
    "my_dict"
   ],
   "metadata": {
    "collapsed": false,
    "pycharm": {
     "name": "#%%\n"
    }
   }
  },
  {
   "cell_type": "code",
   "execution_count": 6,
   "outputs": [
    {
     "data": {
      "text/plain": "90"
     },
     "execution_count": 6,
     "metadata": {},
     "output_type": "execute_result"
    }
   ],
   "source": [
    "total_numb = 12 * 7 + 6\n",
    "long = range(total_numb)\n",
    "group = 6 * ['G23']\n",
    "for it in range(24, 31):\n",
    "    title = 'G' + str(it)\n",
    "    group += 12 * [title]\n"
   ],
   "metadata": {
    "collapsed": false,
    "pycharm": {
     "name": "#%%\n"
    }
   }
  },
  {
   "cell_type": "code",
   "execution_count": 9,
   "outputs": [
    {
     "data": {
      "text/plain": "[0.9815765298737517, 0.9957346812224394]"
     },
     "execution_count": 9,
     "metadata": {},
     "output_type": "execute_result"
    }
   ],
   "source": [
    "retention_yr = [0.8, 0.95]\n",
    "retention_month = [x ** (1/12) for x in retention_yr]\n",
    "retention_month"
   ],
   "metadata": {
    "collapsed": false,
    "pycharm": {
     "name": "#%%\n"
    }
   }
  },
  {
   "cell_type": "code",
   "execution_count": 8,
   "outputs": [
    {
     "data": {
      "text/plain": "0.9815765298737517"
     },
     "execution_count": 8,
     "metadata": {},
     "output_type": "execute_result"
    }
   ],
   "source": [
    "0.8 ** (1/12)"
   ],
   "metadata": {
    "collapsed": false,
    "pycharm": {
     "name": "#%%\n"
    }
   }
  },
  {
   "cell_type": "code",
   "execution_count": 11,
   "outputs": [
    {
     "data": {
      "text/plain": "0.8"
     },
     "execution_count": 11,
     "metadata": {},
     "output_type": "execute_result"
    }
   ],
   "source": [
    "long = 1\n",
    "for i in range(12):\n",
    "    long *= retention_month[0]\n",
    "long"
   ],
   "metadata": {
    "collapsed": false,
    "pycharm": {
     "name": "#%%\n"
    }
   }
  },
  {
   "cell_type": "code",
   "execution_count": 16,
   "outputs": [
    {
     "data": {
      "text/plain": "   t  g\nf  4  4\nf  4  4",
      "text/html": "<div>\n<style scoped>\n    .dataframe tbody tr th:only-of-type {\n        vertical-align: middle;\n    }\n\n    .dataframe tbody tr th {\n        vertical-align: top;\n    }\n\n    .dataframe thead th {\n        text-align: right;\n    }\n</style>\n<table border=\"1\" class=\"dataframe\">\n  <thead>\n    <tr style=\"text-align: right;\">\n      <th></th>\n      <th>t</th>\n      <th>g</th>\n    </tr>\n  </thead>\n  <tbody>\n    <tr>\n      <th>f</th>\n      <td>4</td>\n      <td>4</td>\n    </tr>\n    <tr>\n      <th>f</th>\n      <td>4</td>\n      <td>4</td>\n    </tr>\n  </tbody>\n</table>\n</div>"
     },
     "execution_count": 16,
     "metadata": {},
     "output_type": "execute_result"
    }
   ],
   "source": [
    "a = pd.DataFrame(1, index=['f', 'f'], columns=['t', 'g'])\n",
    "x = pd.DataFrame(2, index=['f', 'f'], columns=['t', 'g'])\n",
    "# assert a.equals(x), f'some values are not the same'\n",
    "x * 2"
   ],
   "metadata": {
    "collapsed": false,
    "pycharm": {
     "name": "#%%\n"
    }
   }
  },
  {
   "cell_type": "code",
   "execution_count": null,
   "outputs": [],
   "source": [],
   "metadata": {
    "collapsed": false,
    "pycharm": {
     "name": "#%%\n"
    }
   }
  }
 ],
 "metadata": {
  "kernelspec": {
   "display_name": "Python 3 (ipykernel)",
   "language": "python",
   "name": "python3"
  },
  "language_info": {
   "codemirror_mode": {
    "name": "ipython",
    "version": 3
   },
   "file_extension": ".py",
   "mimetype": "text/x-python",
   "name": "python",
   "nbconvert_exporter": "python",
   "pygments_lexer": "ipython3",
   "version": "3.10.8"
  }
 },
 "nbformat": 4,
 "nbformat_minor": 1
}