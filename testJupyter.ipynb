{
 "cells": [
  {
   "cell_type": "code",
   "execution_count": 4,
   "metadata": {},
   "outputs": [
    {
     "name": "stdout",
     "output_type": "stream",
     "text": [
      "The autoreload extension is already loaded. To reload it, use:\n",
      "  %reload_ext autoreload\n"
     ]
    }
   ],
   "source": [
    "import warnings\n",
    "import os\n",
    "import warnings\n",
    "import pandas as pd\n",
    "from pandas import ExcelWriter\n",
    "\n",
    "import config\n",
    "import config as cf\n",
    "import numpy as np\n",
    "from Function import *\n",
    "warnings.simplefilter(action='ignore', category=FutureWarning)\n",
    "# warnings.simplefilter(action='ignore', category=pd.core.common.SettingWithCopyWarning)\n",
    "## autoreload reloads modules automatically before entering the execution of code\n",
    "%load_ext autoreload\n",
    "%autoreload 2"
   ]
  },
  {
   "cell_type": "code",
   "execution_count": 75,
   "metadata": {},
   "outputs": [
    {
     "name": "stdout",
     "output_type": "stream",
     "text": [
      "   Mike  beach\n",
      "0     1      1\n",
      "1     1      1\n",
      "   Mike  beach\n",
      "0     2      2\n",
      "1     2      2\n",
      "   Mike  beach\n",
      "0     3      3\n",
      "1     3      3\n"
     ]
    },
    {
     "data": {
      "text/plain": "   Mike  beach\n0     3      3\n1     3      3",
      "text/html": "<div>\n<style scoped>\n    .dataframe tbody tr th:only-of-type {\n        vertical-align: middle;\n    }\n\n    .dataframe tbody tr th {\n        vertical-align: top;\n    }\n\n    .dataframe thead th {\n        text-align: right;\n    }\n</style>\n<table border=\"1\" class=\"dataframe\">\n  <thead>\n    <tr style=\"text-align: right;\">\n      <th></th>\n      <th>Mike</th>\n      <th>beach</th>\n    </tr>\n  </thead>\n  <tbody>\n    <tr>\n      <th>0</th>\n      <td>3</td>\n      <td>3</td>\n    </tr>\n    <tr>\n      <th>1</th>\n      <td>3</td>\n      <td>3</td>\n    </tr>\n  </tbody>\n</table>\n</div>"
     },
     "execution_count": 75,
     "metadata": {},
     "output_type": "execute_result"
    }
   ],
   "source": [
    "df_1 = pd.DataFrame(1, index=[0,1], columns=['Mike', 'beach'])\n",
    "df_2 = pd.DataFrame(2, index=[0,1], columns=['Mike', 'beach'])\n",
    "print(df_1)\n",
    "print(df_2)\n",
    "print(df_1 + df_2)\n",
    "df_emp = pd.DataFrame()\n",
    "df_2 = df_2.add(df_1)\n",
    "cat = pd.concat([df_emp,df_1])\n",
    "df_2"
   ]
  },
  {
   "cell_type": "code",
   "execution_count": 53,
   "outputs": [],
   "source": [
    "class CustomData:\n",
    "    def __init__(self, filepath, list_sheetname):\n",
    "        self.filepath = filepath\n",
    "        self.list_sheetname = self.create_sheet_name(list_sheetname)\n",
    "\n",
    "    def create_sheet_name(self, list_name):\n",
    "        lt = []\n",
    "        for name in list_name:\n",
    "            lt.append(f'Cohort {name}')\n",
    "        return lt\n",
    "\n",
    "    def extract_data_from_list(self):\n",
    "        lt_data = []\n",
    "        for name in self.list_sheetname:\n",
    "            # sheet_name = f'Cohort {name}'\n",
    "            df = pd.read_excel(self.filepath, sheet_name=name, skiprows=1)\n",
    "            improved_df = self.createDataFrameworkSuffix(df)\n",
    "            outputs = self.give_outputs_variables()[0]\n",
    "            # print(outputs)\n",
    "            # print(improved_df)\n",
    "            df_new = self.creat_custom_dataframe(improved_df, outputs)\n",
    "            lt_data.append(df_new)\n",
    "        return lt_data\n",
    "\n",
    "    def createDataFrameworkSuffix(self, df):\n",
    "        df['Parameter'] = df['Parameter'] + '_' + df['Input/Output'] + '_' + df['Category']\n",
    "        return df\n",
    "\n",
    "    def give_outputs_variables(self):\n",
    "        data = pd.read_excel(self.filepath, sheet_name=self.list_sheetname[0], skiprows=1)\n",
    "        df = self.createDataFrameworkSuffix(data)\n",
    "        outputs = list(df.loc[df['Input/Output'] == 'Output', 'Parameter'])\n",
    "        inputs = list(df.loc[df['Input/Output'] == 'Input', 'Parameter'])\n",
    "        var = inputs + outputs\n",
    "        list_var = [var, outputs]\n",
    "        return list_var\n",
    "    '''\n",
    "    def load_list_outputs_variables(self):\n",
    "        df = self.createDataFrameworkSuffix()\n",
    "        outputs1 = list(df.loc[df['Suffix'] == 'P&L', 'Variable'])\n",
    "        outputs2 = list(df.loc[df['Input/Output'] == 'in', 'Variable'])\n",
    "        outputs3 = list(df.loc[df['Input/Output'] == 'out', 'Variable'])\n",
    "        return [outputs1, outputs2, outputs3]'''\n",
    "\n",
    "    def creat_custom_dataframe(self, dataframe, outputs):\n",
    "        index_names = dataframe['Parameter']\n",
    "        dataframe = dataframe.filter(like=\"Value\", axis=1)\n",
    "        dataframe.index = index_names\n",
    "        df_data = dataframe.loc[outputs]\n",
    "        # print(df_data)\n",
    "        df_input = df_data.transpose()\n",
    "        return df_input"
   ],
   "metadata": {
    "collapsed": false,
    "pycharm": {
     "name": "#%%\n"
    }
   }
  },
  {
   "cell_type": "code",
   "execution_count": 84,
   "outputs": [
    {
     "name": "stderr",
     "output_type": "stream",
     "text": [
      "[autoreload of Function failed: Traceback (most recent call last):\n",
      "  File \"/Users/cosmicthermo/miniconda3/envs/pytorchenv/lib/python3.8/site-packages/IPython/extensions/autoreload.py\", line 257, in check\n",
      "    superreload(m, reload, self.old_objects)\n",
      "  File \"/Users/cosmicthermo/miniconda3/envs/pytorchenv/lib/python3.8/site-packages/IPython/extensions/autoreload.py\", line 455, in superreload\n",
      "    module = reload(module)\n",
      "  File \"/Users/cosmicthermo/miniconda3/envs/pytorchenv/lib/python3.8/importlib/__init__.py\", line 169, in reload\n",
      "    _bootstrap._exec(spec, module)\n",
      "  File \"<frozen importlib._bootstrap>\", line 604, in _exec\n",
      "  File \"<frozen importlib._bootstrap_external>\", line 839, in exec_module\n",
      "  File \"<frozen importlib._bootstrap_external>\", line 976, in get_code\n",
      "  File \"<frozen importlib._bootstrap_external>\", line 906, in source_to_code\n",
      "  File \"<frozen importlib._bootstrap>\", line 219, in _call_with_frames_removed\n",
      "  File \"/Users/cosmicthermo/Desktop/Afairi-Work/Github/Simulation_UW/Function.py\", line 106\n",
      "    current_month =\n",
      "                  ^\n",
      "SyntaxError: invalid syntax\n",
      "]\n"
     ]
    },
    {
     "data": {
      "text/plain": "Index(['Month_Input_var', 'Start_month_Input_var', 'Start_premium_Input_var',\n       'Retention_Input_var', 'Inflation_Input_var',\n       'Revenue_share_of_premium_for_new_business_Input_var',\n       'Revenue_share_of_premium_for_renewal_Input_var',\n       'Underwriting_Relative_to_premium_based_on_improvement_first_yr_Input_var',\n       'Backoffice_Relative_to_premium_based_on_improvement_first_year_Input_var',\n       'Distribution_channel_cost_as_share_of_premium_first_year_Input_var',\n       'Distribution_channel_cost_as_share_of_premium_next_year_Input_var',\n       'MGA_expense_ratio_as_share_of_premium_volume_first_year_Input_var',\n       'MGA_expense_ratio_as_share_of_premium_volume_next_year_Input_var',\n       'MGA_outsourcing_cost_ratio_as_share_of_premium_volume_first_year_Input_var',\n       'MGA_outsourcing_cost_ratio_as_share_of_premium_volume_next_year_Input_var',\n       'Taxes_as_share_of_net_income_Input_var',\n       'Carrier_loss_on_premium_Input_var',\n       'Working_capital_ratio_carrier_loss_Input_var',\n       'Working_capital_ratio_Distribution_channel_Input_var',\n       'Working_capital_ratio_Expenses_Input_var',\n       'Working_capital_ratio_Outsourcing_Input_var',\n       'Transacted_premium_volume_Output_Profit_Loss',\n       'Revenue_Output_Profit_Loss', 'Network_Output_Profit_Loss',\n       'ow_Origination_Output_Profit_Loss', 'Platform_Output_Profit_Loss',\n       'ow_Underwriting_engine_Output_Profit_Loss',\n       'ow_Back_office_app_Output_Profit_Loss', 'Costs_Output_Profit_Loss',\n       'ow_Loss_Output_Profit_Loss',\n       'ow_Distribution_channel_Output_Profit_Loss',\n       'ow_expenses_Output_Profit_Loss', 'ow_outsourcing_Output_Profit_Loss',\n       'Net_income_Output_Profit_Loss', 'Taxes_Output_Profit_Loss',\n       'NOPAT_Output_Profit_Loss', 'Accumulated_Output_Profit_Loss',\n       'Loss_Output_Profit_Loss_Carrier',\n       'Transacted_premium_volume_Output_Cash_flow',\n       'Revenue_Output_Cash_flow', 'Network_Output_Cash_flow',\n       'ow_Origination_Output_Cash_flow', 'Platform_Output_Cash_flow',\n       'ow_Underwriting_engine_Output_Cash_flow',\n       'ow_Back_office_app_Output_Cash_flow', 'Costs_Output_Cash_flow',\n       'ow_Loss_Output_Cash_flow', 'ow_Loss_Output_Cash_flow',\n       'ow_Distribution_channel_Output_Cash_flow',\n       'ow_Distribution_channel_Output_Cash_flow',\n       'ow_expenses_Output_Cash_flow', 'ow_expenses_Output_Cash_flow',\n       'ow_outsourcing_Output_Cash_flow', 'Net_income_Output_Cash_flow',\n       'Taxes_Output_Cash_flow', 'NOPAT_Output_Cash_flow',\n       'Working_capital_Output_Cash_flow', 'ow_Loss_Output_Cash_flow',\n       'ow_Loss_Output_Cash_flow', 'ow_Distribution_channel_Output_Cash_flow',\n       'ow_Distribution_channel_Output_Cash_flow',\n       'ow_expenses_Output_Cash_flow', 'ow_expenses_Output_Cash_flow',\n       'Operating_cash_flow_Output_Cash_flow', 'Accumulated_Output_Cash_flow',\n       'ROIC_Output_Cash_flow'],\n      dtype='object', name='Parameter')"
     },
     "execution_count": 84,
     "metadata": {},
     "output_type": "execute_result"
    }
   ],
   "source": [
    "da_1 = CustomData(config.data_path, ['G1'])\n",
    "lt = da_1.extract_data_from_list()\n",
    "data_input = lt[0]\n",
    "data_input.columns"
   ],
   "metadata": {
    "collapsed": false,
    "pycharm": {
     "name": "#%%\n"
    }
   }
  },
  {
   "cell_type": "code",
   "execution_count": 87,
   "outputs": [
    {
     "name": "stderr",
     "output_type": "stream",
     "text": [
      "[autoreload of Function failed: Traceback (most recent call last):\n",
      "  File \"/Users/cosmicthermo/miniconda3/envs/pytorchenv/lib/python3.8/site-packages/IPython/extensions/autoreload.py\", line 257, in check\n",
      "    superreload(m, reload, self.old_objects)\n",
      "  File \"/Users/cosmicthermo/miniconda3/envs/pytorchenv/lib/python3.8/site-packages/IPython/extensions/autoreload.py\", line 455, in superreload\n",
      "    module = reload(module)\n",
      "  File \"/Users/cosmicthermo/miniconda3/envs/pytorchenv/lib/python3.8/importlib/__init__.py\", line 169, in reload\n",
      "    _bootstrap._exec(spec, module)\n",
      "  File \"<frozen importlib._bootstrap>\", line 604, in _exec\n",
      "  File \"<frozen importlib._bootstrap_external>\", line 839, in exec_module\n",
      "  File \"<frozen importlib._bootstrap_external>\", line 976, in get_code\n",
      "  File \"<frozen importlib._bootstrap_external>\", line 906, in source_to_code\n",
      "  File \"<frozen importlib._bootstrap>\", line 219, in _call_with_frames_removed\n",
      "  File \"/Users/cosmicthermo/Desktop/Afairi-Work/Github/Simulation_UW/Function.py\", line 110\n",
      "    current_row['Start_premium_Input_var'] =\n",
      "                                           ^\n",
      "SyntaxError: invalid syntax\n",
      "]\n"
     ]
    },
    {
     "data": {
      "text/plain": "Parameter  Month_Input_var  Start_month_Input_var  Start_premium_Input_var  \\\n1                      0.0                    0.0                      1.0   \n\nParameter  Retention_Input_var  Inflation_Input_var  \\\n1                          NaN                 1.03   \n\nParameter  Revenue_share_of_premium_for_new_business_Input_var  \\\n1                                                        0.4     \n\nParameter  Revenue_share_of_premium_for_renewal_Input_var  \\\n1                                                    0.05   \n\nParameter  Underwriting_Relative_to_premium_based_on_improvement_first_yr_Input_var  \\\n1                                                   0.019305                          \n\nParameter  Backoffice_Relative_to_premium_based_on_improvement_first_year_Input_var  \\\n1                                                       0.01                          \n\nParameter  Distribution_channel_cost_as_share_of_premium_first_year_Input_var  \\\n1                                                        0.2                    \n\nParameter  ...  Working_capital_Output_Cash_flow  ow_Loss_Output_Cash_flow  \\\n1          ...                               NaN                       NaN   \n\nParameter  ow_Loss_Output_Cash_flow  ow_Distribution_channel_Output_Cash_flow  \\\n1                               NaN                                       NaN   \n\nParameter  ow_Distribution_channel_Output_Cash_flow  \\\n1                                               NaN   \n\nParameter  ow_expenses_Output_Cash_flow  ow_expenses_Output_Cash_flow  \\\n1                                   NaN                           NaN   \n\nParameter  Operating_cash_flow_Output_Cash_flow  Accumulated_Output_Cash_flow  \\\n1                                           NaN                           NaN   \n\nParameter  ROIC_Output_Cash_flow  \n1                            NaN  \n\n[1 rows x 66 columns]",
      "text/html": "<div>\n<style scoped>\n    .dataframe tbody tr th:only-of-type {\n        vertical-align: middle;\n    }\n\n    .dataframe tbody tr th {\n        vertical-align: top;\n    }\n\n    .dataframe thead th {\n        text-align: right;\n    }\n</style>\n<table border=\"1\" class=\"dataframe\">\n  <thead>\n    <tr style=\"text-align: right;\">\n      <th>Parameter</th>\n      <th>Month_Input_var</th>\n      <th>Start_month_Input_var</th>\n      <th>Start_premium_Input_var</th>\n      <th>Retention_Input_var</th>\n      <th>Inflation_Input_var</th>\n      <th>Revenue_share_of_premium_for_new_business_Input_var</th>\n      <th>Revenue_share_of_premium_for_renewal_Input_var</th>\n      <th>Underwriting_Relative_to_premium_based_on_improvement_first_yr_Input_var</th>\n      <th>Backoffice_Relative_to_premium_based_on_improvement_first_year_Input_var</th>\n      <th>Distribution_channel_cost_as_share_of_premium_first_year_Input_var</th>\n      <th>...</th>\n      <th>Working_capital_Output_Cash_flow</th>\n      <th>ow_Loss_Output_Cash_flow</th>\n      <th>ow_Loss_Output_Cash_flow</th>\n      <th>ow_Distribution_channel_Output_Cash_flow</th>\n      <th>ow_Distribution_channel_Output_Cash_flow</th>\n      <th>ow_expenses_Output_Cash_flow</th>\n      <th>ow_expenses_Output_Cash_flow</th>\n      <th>Operating_cash_flow_Output_Cash_flow</th>\n      <th>Accumulated_Output_Cash_flow</th>\n      <th>ROIC_Output_Cash_flow</th>\n    </tr>\n  </thead>\n  <tbody>\n    <tr>\n      <th>1</th>\n      <td>0.0</td>\n      <td>0.0</td>\n      <td>1.0</td>\n      <td>NaN</td>\n      <td>1.03</td>\n      <td>0.4</td>\n      <td>0.05</td>\n      <td>0.019305</td>\n      <td>0.01</td>\n      <td>0.2</td>\n      <td>...</td>\n      <td>NaN</td>\n      <td>NaN</td>\n      <td>NaN</td>\n      <td>NaN</td>\n      <td>NaN</td>\n      <td>NaN</td>\n      <td>NaN</td>\n      <td>NaN</td>\n      <td>NaN</td>\n      <td>NaN</td>\n    </tr>\n  </tbody>\n</table>\n<p>1 rows × 66 columns</p>\n</div>"
     },
     "execution_count": 87,
     "metadata": {},
     "output_type": "execute_result"
    }
   ],
   "source": [
    "insert_df = pd.DataFrame(index=range(-12, 1, 1), columns=data_input.columns)\n",
    "one_df = pd.DataFrame(index=[1], columns=data_input.columns)\n",
    "new_df = one_df + pd.DataFrame()\n",
    "new_df\n",
    "data_input['Start_premium_Input_var'] = data_input['Start_premium_Input_var']/12\n",
    "data_input"
   ],
   "metadata": {
    "collapsed": false,
    "pycharm": {
     "name": "#%%\n"
    }
   }
  },
  {
   "cell_type": "code",
   "execution_count": 47,
   "outputs": [
    {
     "name": "stderr",
     "output_type": "stream",
     "text": [
      "[autoreload of Function failed: Traceback (most recent call last):\n",
      "  File \"/Users/cosmicthermo/miniconda3/envs/pytorchenv/lib/python3.8/site-packages/IPython/extensions/autoreload.py\", line 257, in check\n",
      "    superreload(m, reload, self.old_objects)\n",
      "  File \"/Users/cosmicthermo/miniconda3/envs/pytorchenv/lib/python3.8/site-packages/IPython/extensions/autoreload.py\", line 455, in superreload\n",
      "    module = reload(module)\n",
      "  File \"/Users/cosmicthermo/miniconda3/envs/pytorchenv/lib/python3.8/importlib/__init__.py\", line 169, in reload\n",
      "    _bootstrap._exec(spec, module)\n",
      "  File \"<frozen importlib._bootstrap>\", line 604, in _exec\n",
      "  File \"<frozen importlib._bootstrap_external>\", line 839, in exec_module\n",
      "  File \"<frozen importlib._bootstrap_external>\", line 976, in get_code\n",
      "  File \"<frozen importlib._bootstrap_external>\", line 906, in source_to_code\n",
      "  File \"<frozen importlib._bootstrap>\", line 219, in _call_with_frames_removed\n",
      "  File \"/Users/cosmicthermo/Desktop/Afairi-Work/Github/Simulation_UW/Function.py\", line 110\n",
      "    def init_starting_month(self):\n",
      "    ^\n",
      "IndentationError: expected an indented block\n",
      "]\n"
     ]
    },
    {
     "data": {
      "text/plain": "30"
     },
     "execution_count": 47,
     "metadata": {},
     "output_type": "execute_result"
    }
   ],
   "source": [
    "lt_1 = ['G1', 'G2']\n",
    "lt2 = [30, 88]\n",
    "dt = dict(zip(lt_1, lt2))\n",
    "dt['G1']"
   ],
   "metadata": {
    "collapsed": false,
    "pycharm": {
     "name": "#%%\n"
    }
   }
  },
  {
   "cell_type": "code",
   "execution_count": null,
   "outputs": [],
   "source": [],
   "metadata": {
    "collapsed": false,
    "pycharm": {
     "name": "#%%\n"
    }
   }
  }
 ],
 "metadata": {
  "kernelspec": {
   "display_name": "Python 3 (ipykernel)",
   "language": "python",
   "name": "python3"
  },
  "language_info": {
   "codemirror_mode": {
    "name": "ipython",
    "version": 3
   },
   "file_extension": ".py",
   "mimetype": "text/x-python",
   "name": "python",
   "nbconvert_exporter": "python",
   "pygments_lexer": "ipython3",
   "version": "3.10.8"
  }
 },
 "nbformat": 4,
 "nbformat_minor": 1
}